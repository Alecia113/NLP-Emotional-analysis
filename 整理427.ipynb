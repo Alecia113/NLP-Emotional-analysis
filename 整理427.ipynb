{
  "nbformat": 4,
  "nbformat_minor": 0,
  "metadata": {
    "colab": {
      "name": "整理427.ipynb",
      "provenance": [],
      "collapsed_sections": [],
      "include_colab_link": true
    },
    "kernelspec": {
      "name": "python3",
      "display_name": "Python 3"
    },
    "language_info": {
      "name": "python"
    }
  },
  "cells": [
    {
      "cell_type": "markdown",
      "metadata": {
        "id": "view-in-github",
        "colab_type": "text"
      },
      "source": [
        "<a href=\"https://colab.research.google.com/github/Alecia113/NLP-Emotional-analysis/blob/main/%E6%95%B4%E7%90%86427.ipynb\" target=\"_parent\"><img src=\"https://colab.research.google.com/assets/colab-badge.svg\" alt=\"Open In Colab\"/></a>"
      ]
    },
    {
      "cell_type": "code",
      "metadata": {
        "colab": {
          "base_uri": "https://localhost:8080/"
        },
        "id": "mJFkZQzwtE9q",
        "outputId": "bd90d178-4605-421b-94f2-0f4716b35ac4"
      },
      "source": [
        "# Code to download file into Colaboratory:\n",
        "!pip install -U -q PyDrive\n",
        "from pydrive.auth import GoogleAuth\n",
        "from pydrive.drive import GoogleDrive\n",
        "from google.colab import auth\n",
        "from oauth2client.client import GoogleCredentials\n",
        "# Authenticate and create the PyDrive client.\n",
        "auth.authenticate_user()\n",
        "gauth = GoogleAuth()\n",
        "gauth.credentials = GoogleCredentials.get_application_default()\n",
        "drive = GoogleDrive(gauth)\n",
        "\n",
        "id = '1lTD6bgRkmwguGAr30v-r0KBPdtnVneLb'\n",
        "downloaded = drive.CreateFile({'id':id}) \n",
        "downloaded.GetContentFile('testing_data.pkl')  \n",
        "\n",
        "id = '1pCUdlZMoj99UZHtqFeza86fvVQfFmDFX'\n",
        "downloaded = drive.CreateFile({'id':id}) \n",
        "downloaded.GetContentFile('training_data.pkl')  \n",
        "\n",
        "import pickle #必要的\n",
        "training_data = pickle.load(open(\"training_data.pkl\",\"rb\")) #必要的\n",
        "testing_data = pickle.load(open(\"testing_data.pkl\",\"rb\")) #必要的\n",
        "\n",
        "print(\"------------------------------------\")\n",
        "print(\"Size of training dataset: {0}\".format(len(training_data))) #8000\n",
        "print(\"Size of testing dataset: {0}\".format(len(testing_data))) #2000\n",
        "print(\"------------------------------------\")\n",
        "\n",
        "print(\"------------------------------------\")\n",
        "print(\"Sample Data\")\n",
        "print(\"LABEL: {0} / SENTENCE: {1}\".format(training_data[0][0], training_data[0][1]))\n",
        "print(\"------------------------------------\")\n",
        "#LABEL: neg / SENTENCE: hopeless for tmr :("
      ],
      "execution_count": 2,
      "outputs": [
        {
          "output_type": "stream",
          "text": [
            "------------------------------------\n",
            "Size of training dataset: 8000\n",
            "Size of testing dataset: 2000\n",
            "------------------------------------\n",
            "------------------------------------\n",
            "Sample Data\n",
            "LABEL: neg / SENTENCE: hopeless for tmr :(\n",
            "------------------------------------\n"
          ],
          "name": "stdout"
        }
      ]
    },
    {
      "cell_type": "code",
      "metadata": {
        "id": "ncjYnjYDE-Yn"
      },
      "source": [
        ""
      ],
      "execution_count": 2,
      "outputs": []
    },
    {
      "cell_type": "code",
      "metadata": {
        "colab": {
          "base_uri": "https://localhost:8080/"
        },
        "id": "5JEG1R2GsSXM",
        "outputId": "869d9dba-1eac-40e1-f894-23473116f4df"
      },
      "source": [
        "import torch\n",
        "from random import shuffle\n",
        "import pprint\n",
        "from nltk.tokenize import TweetTokenizer\n",
        "import nltk\n",
        "nltk.download('stopwords')\n",
        "from nltk.corpus import stopwords as sw\n",
        "import re\n",
        "\n",
        "from nltk.tokenize import word_tokenize\n",
        "from collections import Counter\n",
        "import math\n",
        "import numpy as np\n",
        "from sklearn.preprocessing import LabelEncoder\n",
        "from sklearn.metrics import classification_report\n",
        "import torch.nn as nn\n",
        "import torch.nn.functional as F\n",
        "from sklearn.metrics import accuracy_score\n",
        "import torch.optim as optim\n",
        "\n",
        "device = torch.device(\"cuda\" if torch.cuda.is_available() else \"cpu\")\n",
        "\n",
        "\n",
        "train_data = [training_data[i][1] for i in range(len(training_data))]\n",
        "train_label = [training_data[i][0] for i in range(len(training_data))]\n",
        "test_data = [testing_data[i][1] for i in range(len(testing_data))]  \n",
        "test_label = [testing_data[i][0] for i in range(len(testing_data))] #neg pos\n",
        "\n",
        "\n",
        "zipped = zip(train_data,train_label)  \n",
        "Zipp = list(zipped) \n",
        "shuffle(Zipp)\n",
        "train_data = [context[0] for context in Zipp]\n",
        "train_label = [context[1] for context in Zipp]\n",
        "\n",
        "\n",
        "def preprocessing(data_text):\n",
        "  text = [s.lower() for s in data_text]\n",
        "\n",
        "\n",
        "  def remove_punctuation_re(x):\n",
        "      # Please complete this\n",
        "      x1 = re.sub(r'[^\\w\\s]','',x)\n",
        "      x2 = re.sub(r'\\d','',x1)\n",
        "      return x2\n",
        "\n",
        "  text_re = [remove_punctuation_re(s) for s in text]\n",
        "\n",
        "  tknzr = TweetTokenizer()\n",
        "  text_t=[]                                    #完全每句话的分词的集合。train_t[0][0]每个单词\n",
        "  for s in text_re:\n",
        "    text_re = tknzr.tokenize(s)              #每句话分别作了分词 text_train[0]第一句话的分词\n",
        "    text_t.append(text_re)  \n",
        "  '''表情的保留方式  因为字典中没表情，所以就不用表情了\n",
        "  def remove(x):\n",
        "    t = []\n",
        "    for i in range(len(x)):\n",
        "      t_sub = []        #是直接用空列表代替了\n",
        "      for j in range(len(x[i])):\n",
        "        if len(x[i][j])==0:\n",
        "          continue\n",
        "        if x[i][j] == \" \":\n",
        "          continue \n",
        "        else:\n",
        "          x[i][j] = re.sub(r'\\d','',x[i][j])                  #删除0-9\n",
        "          if len(x[i][j]) == 1 or len(x[i][j]) > 3:           #and + or 问题。\n",
        "            x[i][j] = re.sub(r'[^\\w\\s+]','', x[i][j])\n",
        "          if len(x[i][j]) == 0:\n",
        "            continue \n",
        "          else:\n",
        "            t_sub.append(x[i][j]) \n",
        "      t.append(t_sub) \n",
        "    return t\n",
        "\n",
        "  new_text = remove(text_t)\n",
        "  '''\n",
        "\n",
        "\n",
        "\n",
        "  stop_words = sw.words()\n",
        "  sww = sw.words()\n",
        "  text_stop=[]    #8000\n",
        "  for tokens in text_t:\n",
        "      filtered_sentence = [w for w in tokens if not w in stop_words]\n",
        "      text_stop.append(filtered_sentence)\n",
        "  return text_stop\n",
        "\n",
        "pre_train= preprocessing(train_data)  #对应后面，后面还得改一下 train_stem ;test_stem\n",
        "pre_test =preprocessing(test_data)"
      ],
      "execution_count": 3,
      "outputs": [
        {
          "output_type": "stream",
          "text": [
            "[nltk_data] Downloading package stopwords to /root/nltk_data...\n",
            "[nltk_data]   Unzipping corpora/stopwords.zip.\n"
          ],
          "name": "stdout"
        }
      ]
    },
    {
      "cell_type": "code",
      "metadata": {
        "colab": {
          "base_uri": "https://localhost:8080/",
          "height": 90
        },
        "id": "sdsADvHD2wsc",
        "outputId": "f99cd26f-dec3-4038-dc01-56f644158973"
      },
      "source": [
        "'''\n",
        "nltk.download('wordnet')\n",
        "from nltk.stem import WordNetLemmatizer\n",
        "\n",
        "def lemmatize(past_text):\n",
        "  lemmatizer = WordNetLemmatizer()\n",
        "\n",
        "  text_le = []\n",
        "  for tokens in past_text:\n",
        "    lemma_sentence = [lemmatizer.lemmatize(w) for w in tokens ]\n",
        "    text_le.append(lemma_sentence)\n",
        "  return text_le\n",
        "\n",
        "lem_train = lemmatize(pre_train)  #nobodies-->nobody\n",
        "lem_test = lemmatize(pre_test)\n",
        "'''"
      ],
      "execution_count": 4,
      "outputs": [
        {
          "output_type": "execute_result",
          "data": {
            "application/vnd.google.colaboratory.intrinsic+json": {
              "type": "string"
            },
            "text/plain": [
              "\"\\nnltk.download('wordnet')\\nfrom nltk.stem import WordNetLemmatizer\\n\\ndef lemmatize(past_text):\\n  lemmatizer = WordNetLemmatizer()\\n\\n  text_le = []\\n  for tokens in past_text:\\n    lemma_sentence = [lemmatizer.lemmatize(w) for w in tokens ]\\n    text_le.append(lemma_sentence)\\n  return text_le\\n\\nlem_train = lemmatize(pre_train)  #nobodies-->nobody\\nlem_test = lemmatize(pre_test)\\n\""
            ]
          },
          "metadata": {
            "tags": []
          },
          "execution_count": 4
        }
      ]
    },
    {
      "cell_type": "code",
      "metadata": {
        "id": "iiBHbNhu7SVU"
      },
      "source": [
        "\n",
        "# stem\n",
        "from nltk.stem.porter import *\n",
        "def stemming(past_text):\n",
        "  stemmer = PorterStemmer()\n",
        "  train_stem = []\n",
        "  for i in range(len(past_text)):\n",
        "    singles = []\n",
        "    for plural in past_text[i]:\n",
        "      singles.append(stemmer.stem(plural))\n",
        "    train_stem.append(singles)\n",
        "  return train_stem\n",
        "\n",
        "stem_train = stemming(pre_train)  #nobodies -->nobodi\n",
        "stem_test = stemming(pre_test)\n"
      ],
      "execution_count": 5,
      "outputs": []
    },
    {
      "cell_type": "code",
      "metadata": {
        "id": "XX8qkfuG99-z",
        "colab": {
          "base_uri": "https://localhost:8080/",
          "height": 181
        },
        "outputId": "6318e90d-c0d7-4ef6-8982-114434e71d55"
      },
      "source": [
        "#为什么要stem\n",
        "'''\n",
        "II = torch.load('save_stem.PATH')  # 'save_lem.PATH'\n",
        "O=model.load_state_dict(II['model_state_dict']) #成功\n",
        "optimizer.load_state_dict(II['optimizer_state_dict'])\n",
        "PP = II['epoch'] #19\n",
        "LL = II['loss'] #0.6927\n",
        "P2 = II['predicted2']   #tensor([0, 1, 0,  ..., 0, 1, 0])\n",
        "O2 = II['outputs2']   \n",
        "\n",
        "tensor([[ 0.1570, -0.1038],\n",
        "        [-0.2550,  0.3335],\n",
        "        [ 0.1559, -0.0992],\n",
        "        ...,\n",
        "        [ 0.1649, -0.1156],\n",
        "        [-0.1996,  0.2628],\n",
        "        [ 0.1186, -0.0533]], requires_grad=True)\n",
        "\n",
        "P = II['predicted'] #tensor([0, 0, 1, 0, 0, 0, 1, 1, 0, 0, 1, 1, 0, 1, 0, 0, 0, 0, 0, 0, 1, 0, 0, 0,// 0, 0, 0, 1, 1, 1, 1, 1, 0, 1, 0, 0, 0, 1, 1, 0, 0, 0, 0, 1, 1, 0, 0, 0,\n",
        "ACC = II['acc'] #0.61  看起来是存了期中的一个\n",
        "TL = II['train_loss'] #6.557632803916931  看起来是存了期中的一个\n",
        "#不再存直接跑是上次的状态\n",
        "print(PP)\n",
        "print(LL)\n",
        "print(P2)\n",
        "print(O2)\n",
        "print(P)\n",
        "print(ACC)\n",
        "print(TL)\n",
        "'''"
      ],
      "execution_count": 7,
      "outputs": [
        {
          "output_type": "execute_result",
          "data": {
            "application/vnd.google.colaboratory.intrinsic+json": {
              "type": "string"
            },
            "text/plain": [
              "\"\\nII = torch.load('save_stem.PATH')  # 'save_lem.PATH'\\nO=model.load_state_dict(II['model_state_dict']) #成功\\noptimizer.load_state_dict(II['optimizer_state_dict'])\\nPP = II['epoch'] #19\\nLL = II['loss'] #0.6927\\nP2 = II['predicted2']   #tensor([0, 1, 0,  ..., 0, 1, 0])\\nO2 = II['outputs2']   \\n\\ntensor([[ 0.1570, -0.1038],\\n        [-0.2550,  0.3335],\\n        [ 0.1559, -0.0992],\\n        ...,\\n        [ 0.1649, -0.1156],\\n        [-0.1996,  0.2628],\\n        [ 0.1186, -0.0533]], requires_grad=True)\\n\\nP = II['predicted'] #tensor([0, 0, 1, 0, 0, 0, 1, 1, 0, 0, 1, 1, 0, 1, 0, 0, 0, 0, 0, 0, 1, 0, 0, 0,// 0, 0, 0, 1, 1, 1, 1, 1, 0, 1, 0, 0, 0, 1, 1, 0, 0, 0, 0, 1, 1, 0, 0, 0,\\nACC = II['acc'] #0.61  看起来是存了期中的一个\\nTL = II['train_loss'] #6.557632803916931  看起来是存了期中的一个\\n#不再存直接跑是上次的状态\\nprint(PP)\\nprint(LL)\\nprint(P2)\\nprint(O2)\\nprint(P)\\nprint(ACC)\\nprint(TL)\\n\""
            ]
          },
          "metadata": {
            "tags": []
          },
          "execution_count": 7
        }
      ]
    },
    {
      "cell_type": "markdown",
      "metadata": {
        "id": "BdAYqeB78nnP"
      },
      "source": [
        "想测试哪个预处理好用。"
      ]
    },
    {
      "cell_type": "code",
      "metadata": {
        "id": "a5tz5FX-8nuf"
      },
      "source": [
        "sentences = stem_train + stem_test      #\n",
        "'''\n",
        "from gensim.models import Word2Vec\n",
        "wv_cbow_model = Word2Vec(sentences= sentences, size=100, window=5, min_count=2, workers=2, sg=0)\n",
        "wv_cbow_model.save(\"cbow.model\")\n",
        "#cbow = Word2Vec.load(\"./cbow.model\")  \n",
        "'''\n",
        "\n",
        "from gensim.models import FastText\n",
        "ft_sg_model = FastText(sentences=sentences, size=100, window=5, min_count=2, workers=2, sg=1)\n",
        "ft_sg_model.save('ft_sg.model')\n",
        "ft_sg = FastText.load(\"./ft_sg.model\")  \n"
      ],
      "execution_count": 8,
      "outputs": []
    },
    {
      "cell_type": "code",
      "metadata": {
        "id": "p26DkKO_M3ut"
      },
      "source": [
        ""
      ],
      "execution_count": 8,
      "outputs": []
    },
    {
      "cell_type": "code",
      "metadata": {
        "colab": {
          "base_uri": "https://localhost:8080/"
        },
        "id": "lhjNn6-G9QQN",
        "outputId": "b5b74048-a441-4828-ee7f-2feec0c49c84"
      },
      "source": [
        "from google.colab import drive\n",
        "drive.mount('/content/drive') \n",
        "\n",
        "not_words = [w.strip() for w in open('/content/drive/MyDrive/NLP/A1/E/opinion-lexicon-English/negative-words.txt', 'r', encoding=\"ISO-8859-1\").readlines()]\n",
        "#处理文件 -\n",
        "j = -1\n",
        "for i in not_words:\n",
        "  j +=1\n",
        "  if i == '2-faced':\n",
        "    break\n",
        "neg = not_words[j:]\n",
        "\n",
        "#处理文件+\n",
        "sure_words = [w.strip() for w in open('/content/drive/MyDrive/NLP/A1/E/opinion-lexicon-English/positive-words.txt', 'r', encoding=\"ISO-8859-1\").readlines()]\n",
        "\n",
        "j = -1\n",
        "for i in sure_words:\n",
        "  j +=1\n",
        "  if i == 'a+':\n",
        "    break\n",
        "\n",
        "pos = sure_words[j:]\n",
        "\n",
        "\n",
        "nltk.download('wordnet')\n",
        "from nltk.stem import WordNetLemmatizer\n",
        "'''\n",
        "def lem(past_text):\n",
        "  lemmatizer = WordNetLemmatizer()\n",
        "\n",
        "  text_le = []\n",
        "\n",
        "  lemma_sentence = [lemmatizer.lemmatize(w) for w in past_text ]\n",
        "  text_le.append(lemma_sentence)\n",
        "  return text_le\n",
        "neg_new = lem(neg)\n",
        "pos_new = lem(pos)\n",
        "'''\n",
        "\n",
        "\n",
        "from nltk.stem.porter import *\n",
        "def stem(past_text):\n",
        "  stemmer = PorterStemmer()\n",
        "  text_le = []\n",
        "  stemmer_sentence = [stemmer.stem(plural) for plural in past_text ]\n",
        "  text_le.append(stemmer_sentence)\n",
        "  return text_le\n",
        "\n",
        "neg_new = stem(neg)\n",
        "pos_new = stem(pos)"
      ],
      "execution_count": 9,
      "outputs": [
        {
          "output_type": "stream",
          "text": [
            "Mounted at /content/drive\n",
            "[nltk_data] Downloading package wordnet to /root/nltk_data...\n",
            "[nltk_data]   Unzipping corpora/wordnet.zip.\n"
          ],
          "name": "stdout"
        }
      ]
    },
    {
      "cell_type": "code",
      "metadata": {
        "id": "U5QvuNj0-rjc"
      },
      "source": [
        "#只是原来的，因为neg就是单词了。不能再neg[0]\n",
        "'''\n",
        "大改动\n",
        "'''\n",
        "def match(text):\n",
        "  sum_match= [] #train_match\n",
        "  for i in range(len(text)):  #train_stem  取出一句话\n",
        "    match = []\n",
        "    for j in range(len(text[i])):   #取出一句话中的单词\n",
        "      if text[i][j] in neg_new[0]:    #neg_stem  第几句话的第几个单词\n",
        "        match.append(1)   #neg 1\n",
        "      elif text[i][j] in pos_new[0]:  #pos_stem\n",
        "        match.append(2) #pos 2\n",
        "      else:\n",
        "        match.append(0)\n",
        "    sum_match.append(match)\n",
        "  return sum_match\n",
        "train_match = match(stem_train)  #这在不断的改变 train_stem  原本的话都是000\n",
        "test_match = match(stem_test)\n",
        "#只有stem好用\n",
        "#print(train_match)\n",
        "#print(test_match[:5])\n",
        "#就是把我原本的要训练的话，纷纷用012 表示出来。每个词告诉他是积极消极还是不在"
      ],
      "execution_count": 10,
      "outputs": []
    },
    {
      "cell_type": "code",
      "metadata": {
        "colab": {
          "base_uri": "https://localhost:8080/"
        },
        "id": "Xlz1-F34DrLZ",
        "outputId": "4fd253e6-72ce-4313-f0c5-6e63658d4ffd"
      },
      "source": [
        "#实现的是concat的功能。\n",
        "'''\n",
        "大改动\n",
        "'''\n",
        "def input(text,text_match):\n",
        "  DF = {}\n",
        "\n",
        "  for tokensized_doc in text: \n",
        "      for term in np.unique(tokensized_doc):\n",
        "          try:\n",
        "              DF[term] +=1\n",
        "          except:\n",
        "              DF[term] =1\n",
        "  input = []\n",
        "  for w in range(len(text)):                #8000 0-7999\n",
        "    num = 0\n",
        "    new = []\n",
        "    for t in text[w]:                       #一句话 #t就是这个单词  #13\n",
        "      match = []                            #目前这个就是第一句话的match\n",
        "      if DF[t] >= 2:                         #0-12     这个min_count\n",
        "        word_vec = ft_sg[t].tolist()\n",
        "        match.append(text_match[w][num])     #w 012 []   #IndexError: list index out of range 后面的num问题\n",
        "        new_embedding = word_vec + match       #sent_embedding\n",
        "        new.append(new_embedding)\n",
        "      num += 1\n",
        "      if num >= len(text_match[w]):\n",
        "        break\n",
        "    input.append(new)                          # input == train_embedding\n",
        "                                                #print(input[0][0]) #input 8000一句话 3一个词 101 vec+0、1\n",
        "\n",
        "  return input\n",
        "\n",
        "input_train = input(stem_train,train_match)         #train_stem变化\n",
        "input_test = input(stem_test,test_match)           #test_stem变化\n",
        "#pprint.pprint(input_train[:1])\n",
        "#print('\\n')\n",
        "#pprint.pprint(input_test[:1])"
      ],
      "execution_count": 11,
      "outputs": [
        {
          "output_type": "stream",
          "text": [
            "/usr/local/lib/python3.7/dist-packages/ipykernel_launcher.py:21: DeprecationWarning: Call to deprecated `__getitem__` (Method will be removed in 4.0.0, use self.wv.__getitem__() instead).\n"
          ],
          "name": "stderr"
        }
      ]
    },
    {
      "cell_type": "code",
      "metadata": {
        "id": "rXtkQuOXDrWy"
      },
      "source": [
        "#主要是为了得到n_class\n",
        "unique_labels = np.unique(train_label)\n",
        "\n",
        "lEnc = LabelEncoder()\n",
        "label_train_encoded = lEnc.fit_transform(train_label)         #lEnc.transform(unique_labels)[0]+1\n",
        "label_test_encoded = lEnc.fit_transform(test_label)\n",
        "n_class = len(unique_labels)                                   #主要是为了得到n_class  #n_class = np.unique(unique_labels).shape[0] #2相当于\n",
        "\n",
        "#要确定最大长度是多少 [lab4]\n",
        "doc_length_list = []                                              #会得到8000句话\n",
        "sum_text = pre_train + pre_test     #train_stem + test_stem要改的\n",
        "maxlength = 0\n",
        "for doc in sum_text:\n",
        "    doc_length_list.append(len(doc))                                  #每句话多少个分词\n",
        "\n",
        "for index in range(len(doc_length_list)):\n",
        "  if doc_length_list[index] > maxlength:\n",
        "    maxlength = doc_length_list[index]\n",
        "    max_index = index\n",
        "#print(doc_length_list[max_index]) #21\n"
      ],
      "execution_count": 12,
      "outputs": []
    },
    {
      "cell_type": "code",
      "metadata": {
        "id": "DXHPhY33Drea"
      },
      "source": [
        "#超参\n",
        "\n",
        "seq_length = doc_length_list[max_index]           #（22）应该是我规定的最大序列长度512那种  maxlength 增加减少那种 #一句话最长多少个词\n",
        "n_input = len(input_train[0][0])              #101 无所谓的反正都是101维度\n",
        "n_class = len(unique_labels)                  #2\n",
        "\n",
        "n_hidden = 200                                  #128\n",
        "batch_size = 800                                #500 \n",
        "total_epoch = 20                                #10\n",
        "learning_rate = 0.001                           # 1e-4 == 0.001 le-3 == 0.01 #0.1  0.05\n",
        "\n",
        "\n",
        "#把输入的规格都定成一样的， 变成句子长度是22，单词维度是101\n",
        "\n",
        "def sent_encoded(input_text):\n",
        "  sent_encoded = []\n",
        "  for m in range(len(input_text)):                       # m 1-8000 #训练集  input_train  input_test\n",
        "    \n",
        "    encoded = [] \n",
        "    zero = []\n",
        "    if len(input_text[m]) < seq_length:\n",
        "      zero = [len(input_text[0][0])*[0]] * (seq_length - len(input_text[m]))#补充到22 最长 # 不单单加0； 还是需要变成101维度\n",
        "      encoded = input_text[m] + zero\n",
        "    else:\n",
        "      encoded = input_text[m]\n",
        "    sent_encoded.append(encoded)                                              #要重新添加。 句子已经全变成22了 \n",
        "\n",
        "  sent_encoded = np.array(sent_encoded)\n",
        "  return sent_encoded\n",
        "\n",
        "sent_encoded_train = sent_encoded(input_train)\n",
        "sent_encoded_test = sent_encoded(input_test)\n",
        "#print(sent_encoded_train[:1]) #(8000, 22, 101)\n",
        "#print(sent_encoded_test[:1])#(2000, 22, 101)\n",
        "\n",
        "\n",
        "#还是Bi-LSTM准确度更高，因为LSTM处理了记忆丢失的问题。\n",
        "'''\n",
        "要写个LSTM比RNN好在哪里。\n",
        "'''\n",
        "# 模型Bi-RNN\n",
        "\n",
        "\n",
        "'''\n",
        "class Bi_RNN_Model(nn.Module):\n",
        "    def __init__(self):\n",
        "        super(Bi_RNN_Model, self).__init__()\n",
        "        # set the bidirectional to True\n",
        "        self.rnn = nn.RNN(n_input, n_hidden, batch_first =True, bidirectional=True) #, dropout = 0.5\n",
        "        self.linear = nn.Linear(2*n_hidden,n_class) #n_class = 3 \n",
        "        #https://stackoverflow.com/questions/60259836/cnn-indexerror-target-2-is-out-of-bounds 虽然是01分类但是，pytorch 要进行012 \n",
        "    def forward(self, x):        \n",
        "        x, h_n = self.rnn(x)\n",
        "        # concat the last hidden state from two direction\n",
        "        hidden_out = torch.cat((h_n[0,:,:],h_n[1,:,:]),1)\n",
        "        output = self.linear(hidden_out)\n",
        "        return output\n",
        "\n",
        "\n",
        "'''\n",
        "\n",
        "#LSTM-BI\n",
        "class Bi_LSTM_Model(nn.Module):\n",
        "    def __init__(self):\n",
        "        super(Bi_LSTM_Model, self).__init__()\n",
        "        #self.emb = nn.Embedding(vocab_size, emb_dim)\n",
        "        # Initialize the Embedding layer with the lookup table we created \n",
        "        #self.emb.weight.data.copy_(torch.from_numpy(emb_table))\n",
        "        # Optional: set requires_grad = False to make this lookup table untrainable\n",
        "        #self.emb.weight.requires_grad = False\n",
        "\n",
        "        self.lstm = nn.LSTM(n_input, n_hidden, batch_first =True, bidirectional=True)\n",
        "        self.linear = nn.Linear(n_hidden*2, n_class)\n",
        "\n",
        "    def forward(self, x):\n",
        "        # Get the embeded tensor\n",
        "        #x = self.emb(x)        \n",
        "        # we will use the returned h_n of shape (num_layers * num_directions, batch, hidden_size): tensor containing the hidden state for t = seq_len.\n",
        "        # details of the outputs from nn.LSTM can be found from: https://pytorch.org/docs/stable/generated/torch.nn.LSTM.html\n",
        "        lstm_out, (h_n,c_n) = self.lstm(x)\n",
        "        # concat the last hidden state from two direction\n",
        "        hidden_out =torch.cat((h_n[0,:,:],h_n[1,:,:]),1)\n",
        "        z = self.linear(hidden_out)\n",
        "        return z\n",
        "\n",
        "\n",
        "'''\n",
        "criterion = nn.CrossEntropyLoss()\n",
        "model = Bi_RNN_Model().to(device)\n",
        "optimizer = optim.Adam(model.parameters(), lr=learning_rate)\n",
        "'''\n",
        "#Bi-LSTM\n",
        "# Move the model to GPU\n",
        "criterion = nn.CrossEntropyLoss()\n",
        "model = Bi_LSTM_Model().to(device)\n",
        "optimizer = optim.Adam(model.parameters(), lr=learning_rate)\n",
        "\n",
        "\n"
      ],
      "execution_count": 13,
      "outputs": []
    },
    {
      "cell_type": "code",
      "metadata": {
        "colab": {
          "base_uri": "https://localhost:8080/"
        },
        "id": "1Hehwx11DrlL",
        "outputId": "7a4421ba-1160-487b-bc51-bac14005503b"
      },
      "source": [
        "# Please comment your code\n",
        "#[lab4][lab5]\n",
        "#检查输出节点数与标签数是否一致。\n",
        "#并且将输出节点数num_outputs更改为标签数。\n",
        "# 因为我之前设置的class 类别是 0，1；所以这里也需要改成0，1 要不然后面会出现 target超出范围的错误。\n",
        "def label(label):   \n",
        "  label = np.array(label) #train_label\n",
        "  #neg 1 pos2\n",
        "  lab = []  #label_train\n",
        "  for tag in label:\n",
        "    if tag == 'neg':\n",
        "      lab.append(0)\n",
        "    else:\n",
        "      lab.append(1)\n",
        "  #print(label_train)\n",
        "  #print(len(label_train))\n",
        "  lab = np.array(lab)\n",
        "  #test_label\n",
        "  return lab\n",
        "\n",
        "label_train = label(train_label)\n",
        "label_test = label(test_label)\n",
        "\n",
        "#要开始训练。 optimizer +loss+ backward\n",
        "\n",
        "#处理\n",
        "#sent_encoded_train = sent_encoded(input_train)\n",
        "#sent_encoded_test = sent_encoded(input_test)\n",
        "\n",
        "for epoch in range(total_epoch):\n",
        "    train_loss = 0\n",
        "    for ind in range(0,sent_encoded_train.shape[0],batch_size):\n",
        "        input_batch = sent_encoded_train[ind:min(ind+batch_size, sent_encoded_train.shape[0])] #256,22,101\n",
        "        target_batch = label_train[ind:min(ind+batch_size, sent_encoded_train.shape[0])]  #256\n",
        "        input_batch_torch = torch.from_numpy(input_batch).float().to(device)  #256,22,101\n",
        "        target_batch_torch = torch.from_numpy(target_batch).view(-1).to(device) #256\n",
        "\n",
        "        model.train()\n",
        "        optimizer.zero_grad()\n",
        "        outputs = model(input_batch_torch)   #13,512,25 #256，22，101    #256 2 #500,22,101\n",
        "        loss = criterion(outputs, target_batch_torch) #256 2    256 out,y\n",
        "        loss.backward()\n",
        "        optimizer.step()\n",
        "        \n",
        "        train_loss += loss.item()\n",
        "    predicted = torch.argmax(outputs, 1)  # 输出值为元祖获取第二个tensor        \n",
        "    acc = accuracy_score(predicted.cpu().numpy(),target_batch_torch.cpu().numpy())\n",
        "    print('Epoch: %d, train loss: %.5f, train_acc:%.2f'%(epoch + 1, train_loss, acc))\n",
        "\n",
        "print('Finished Training')\n",
        "#这块是在后面评估，可删\n",
        "## Prediction\n",
        "\n",
        "model.eval()\n",
        "outputs2 = model(torch.from_numpy(sent_encoded_test).float().to(device)) \n",
        "predicted2 = torch.argmax(outputs2, 1)\n",
        "\n",
        "\n",
        "print(classification_report(label_test, predicted2.cpu().numpy(),digits=4))\n",
        "#是改变了batch\n",
        "#3.59s"
      ],
      "execution_count": 14,
      "outputs": [
        {
          "output_type": "stream",
          "text": [
            "Epoch: 1, train loss: 6.87348, train_acc:0.60\n",
            "Epoch: 2, train loss: 6.75540, train_acc:0.61\n",
            "Epoch: 3, train loss: 6.66681, train_acc:0.59\n",
            "Epoch: 4, train loss: 6.60746, train_acc:0.60\n",
            "Epoch: 5, train loss: 6.54393, train_acc:0.62\n",
            "Epoch: 6, train loss: 6.47251, train_acc:0.61\n",
            "Epoch: 7, train loss: 6.39154, train_acc:0.62\n",
            "Epoch: 8, train loss: 6.34640, train_acc:0.63\n",
            "Epoch: 9, train loss: 6.30027, train_acc:0.62\n",
            "Epoch: 10, train loss: 6.28284, train_acc:0.64\n",
            "Epoch: 11, train loss: 6.25530, train_acc:0.63\n",
            "Epoch: 12, train loss: 6.24696, train_acc:0.64\n",
            "Epoch: 13, train loss: 6.22470, train_acc:0.63\n",
            "Epoch: 14, train loss: 6.22778, train_acc:0.65\n",
            "Epoch: 15, train loss: 6.20968, train_acc:0.63\n",
            "Epoch: 16, train loss: 6.19385, train_acc:0.65\n",
            "Epoch: 17, train loss: 6.17131, train_acc:0.65\n",
            "Epoch: 18, train loss: 6.16891, train_acc:0.65\n",
            "Epoch: 19, train loss: 6.13971, train_acc:0.66\n",
            "Epoch: 20, train loss: 6.13612, train_acc:0.64\n",
            "Finished Training\n",
            "              precision    recall  f1-score   support\n",
            "\n",
            "           0     0.5973    0.6600    0.6271      1000\n",
            "           1     0.6201    0.5550    0.5858      1000\n",
            "\n",
            "    accuracy                         0.6075      2000\n",
            "   macro avg     0.6087    0.6075    0.6064      2000\n",
            "weighted avg     0.6087    0.6075    0.6064      2000\n",
            "\n"
          ],
          "name": "stdout"
        }
      ]
    },
    {
      "cell_type": "code",
      "metadata": {
        "id": "JcGQrTXxDrrT"
      },
      "source": [
        "'''\n",
        "torch.save({\n",
        "            'epoch': epoch,\n",
        "            'model_state_dict': model.state_dict(),\n",
        "            'optimizer_state_dict': optimizer.state_dict(),\n",
        "            'loss': loss,\n",
        "            'predicted2':predicted2,\n",
        "            'outputs2':outputs2,\n",
        "            'predicted':predicted,\n",
        "            'acc':acc,\n",
        "            'train_loss':train_loss,\n",
        "            \n",
        "            }, 'save_stem.PATH')\n",
        "\n",
        "'''"
      ],
      "execution_count": 15,
      "outputs": []
    },
    {
      "cell_type": "code",
      "metadata": {
        "colab": {
          "base_uri": "https://localhost:8080/"
        },
        "id": "E_AI4DPgdVWb",
        "outputId": "89cb2a60-ada6-4940-a28d-f417c1bd7c4d"
      },
      "source": [
        "'''\n",
        "II = torch.load('save_stem.PATH')\n",
        "O=model.load_state_dict(II['model_state_dict']) #成功\n",
        "optimizer.load_state_dict(II['optimizer_state_dict'])\n",
        "PP = II['epoch'] #19\n",
        "LL = II['loss'] #0.6927\n",
        "P2 = II['predicted2']   #tensor([0, 1, 0,  ..., 0, 1, 0])\n",
        "O2 = II['outputs2']   \n",
        "'''\n",
        "'''\n",
        "tensor([[ 0.1570, -0.1038],\n",
        "        [-0.2550,  0.3335],\n",
        "        [ 0.1559, -0.0992],\n",
        "        ...,\n",
        "        [ 0.1649, -0.1156],\n",
        "        [-0.1996,  0.2628],\n",
        "        [ 0.1186, -0.0533]], requires_grad=True)\n",
        "        '''\n",
        "'''\n",
        "P = II['predicted'] #tensor([0, 0, 1, 0, 0, 0, 1, 1, 0, 0, 1, 1, 0, 1, 0, 0, 0, 0, 0, 0, 1, 0, 0, 0,// 0, 0, 0, 1, 1, 1, 1, 1, 0, 1, 0, 0, 0, 1, 1, 0, 0, 0, 0, 1, 1, 0, 0, 0,\n",
        "ACC = II['acc'] #0.61  看起来是存了期中的一个\n",
        "TL = II['train_loss'] #6.557632803916931  看起来是存了期中的一个\n",
        "#不再存直接跑是上次的状态\n",
        "print(PP)\n",
        "print(LL)\n",
        "print(P2)\n",
        "print(O2)\n",
        "print(P)\n",
        "print(ACC)\n",
        "print(TL)\n",
        "'''"
      ],
      "execution_count": 16,
      "outputs": [
        {
          "output_type": "stream",
          "text": [
            "19\n",
            "tensor(0.6148, requires_grad=True)\n",
            "tensor([1, 0, 0,  ..., 0, 1, 0])\n",
            "tensor([[-0.3060,  0.2420],\n",
            "        [ 0.0853, -0.1035],\n",
            "        [ 0.1225, -0.1451],\n",
            "        ...,\n",
            "        [ 0.1069, -0.1321],\n",
            "        [-0.1672,  0.0690],\n",
            "        [ 0.3293, -0.3770]], requires_grad=True)\n",
            "tensor([1, 1, 0, 0, 1, 0, 0, 0, 1, 0, 1, 1, 0, 0, 0, 0, 1, 1, 0, 0, 1, 0, 0, 0,\n",
            "        0, 0, 0, 0, 1, 1, 0, 0, 1, 1, 1, 1, 0, 0, 0, 1, 0, 0, 0, 0, 0, 0, 0, 0,\n",
            "        0, 0, 1, 1, 0, 0, 0, 0, 0, 1, 1, 1, 0, 0, 1, 1, 1, 1, 0, 1, 1, 1, 1, 0,\n",
            "        1, 0, 0, 0, 0, 0, 0, 1, 0, 0, 0, 0, 1, 1, 0, 0, 1, 1, 1, 0, 0, 0, 1, 1,\n",
            "        1, 0, 0, 0, 1, 0, 0, 0, 0, 0, 1, 1, 1, 0, 0, 1, 0, 0, 1, 0, 1, 0, 1, 0,\n",
            "        1, 0, 0, 1, 0, 0, 0, 1, 1, 1, 1, 1, 0, 0, 1, 0, 1, 0, 1, 0, 0, 1, 0, 1,\n",
            "        1, 0, 1, 1, 1, 0, 0, 0, 0, 1, 0, 0, 0, 0, 1, 0, 1, 0, 0, 0, 1, 0, 1, 0,\n",
            "        0, 1, 1, 1, 1, 1, 0, 0, 1, 0, 0, 0, 1, 1, 1, 1, 1, 1, 0, 0, 0, 0, 0, 1,\n",
            "        0, 1, 1, 0, 0, 1, 0, 0, 0, 0, 0, 0, 0, 0, 1, 1, 1, 0, 1, 0, 0, 0, 0, 0,\n",
            "        0, 1, 0, 0, 0, 1, 0, 0, 0, 0, 0, 0, 1, 0, 0, 1, 1, 1, 0, 1, 1, 0, 1, 0,\n",
            "        0, 0, 0, 0, 0, 1, 1, 1, 1, 0, 0, 1, 1, 1, 0, 1, 0, 0, 1, 0, 0, 1, 0, 0,\n",
            "        1, 0, 0, 0, 0, 1, 1, 0, 0, 0, 1, 1, 1, 1, 0, 1, 1, 1, 0, 0, 0, 0, 0, 0,\n",
            "        0, 1, 0, 1, 0, 1, 0, 0, 0, 1, 0, 0, 0, 1, 1, 1, 1, 1, 0, 1, 1, 0, 1, 0,\n",
            "        0, 1, 0, 0, 0, 0, 0, 1, 0, 1, 1, 0, 0, 0, 1, 0, 0, 0, 1, 0, 1, 1, 1, 0,\n",
            "        1, 1, 1, 0, 1, 0, 1, 1, 0, 0, 0, 1, 0, 0, 1, 0, 0, 1, 1, 1, 0, 1, 0, 1,\n",
            "        0, 0, 0, 0, 1, 1, 1, 1, 1, 0, 0, 0, 1, 0, 1, 0, 0, 0, 0, 1, 0, 0, 1, 0,\n",
            "        1, 0, 0, 0, 1, 0, 0, 1, 1, 0, 0, 0, 1, 0, 0, 1, 0, 0, 0, 0, 0, 0, 0, 1,\n",
            "        0, 1, 1, 0, 0, 0, 1, 0, 0, 0, 0, 1, 0, 0, 0, 1, 1, 0, 0, 0, 0, 0, 0, 0,\n",
            "        1, 0, 1, 1, 0, 0, 1, 1, 0, 0, 1, 0, 1, 0, 1, 0, 0, 1, 0, 0, 1, 0, 1, 0,\n",
            "        1, 0, 1, 0, 0, 0, 0, 0, 1, 0, 0, 1, 1, 0, 1, 1, 0, 0, 0, 1, 0, 1, 0, 0,\n",
            "        0, 0, 0, 1, 1, 0, 0, 0, 0, 1, 1, 1, 1, 0, 0, 1, 1, 1, 1, 1, 0, 1, 1, 0,\n",
            "        0, 0, 0, 0, 0, 0, 1, 1, 1, 1, 0, 0, 1, 0, 1, 1, 0, 0, 0, 0, 1, 1, 1, 1,\n",
            "        0, 0, 0, 0, 1, 1, 1, 1, 0, 0, 1, 1, 1, 1, 0, 0, 1, 0, 0, 1, 1, 0, 0, 0,\n",
            "        1, 0, 0, 0, 1, 0, 1, 0, 0, 0, 1, 0, 1, 0, 0, 1, 1, 1, 0, 1, 0, 0, 0, 0,\n",
            "        0, 1, 1, 0, 0, 0, 0, 0, 1, 0, 1, 0, 1, 1, 0, 0, 0, 1, 0, 0, 0, 1, 0, 0,\n",
            "        0, 1, 0, 0, 1, 0, 1, 1, 0, 1, 1, 1, 1, 1, 0, 0, 0, 0, 0, 1, 1, 0, 0, 0,\n",
            "        1, 0, 0, 0, 1, 0, 0, 1, 1, 1, 1, 1, 1, 0, 1, 0, 0, 0, 1, 0, 1, 0, 1, 1,\n",
            "        1, 0, 0, 1, 0, 1, 0, 1, 1, 0, 0, 0, 1, 0, 0, 0, 1, 0, 1, 0, 1, 1, 1, 0,\n",
            "        0, 0, 1, 0, 1, 1, 1, 1, 0, 1, 0, 1, 1, 0, 0, 1, 1, 0, 0, 1, 0, 1, 0, 0,\n",
            "        0, 0, 0, 1, 0, 1, 1, 0, 1, 0, 0, 1, 0, 0, 0, 1, 1, 0, 1, 1, 0, 1, 0, 0,\n",
            "        1, 0, 0, 0, 0, 0, 1, 0, 0, 1, 0, 0, 0, 1, 0, 0, 1, 0, 0, 0, 0, 0, 0, 0,\n",
            "        0, 0, 0, 0, 1, 0, 1, 0, 0, 0, 0, 0, 1, 0, 1, 0, 1, 0, 1, 0, 0, 0, 0, 1,\n",
            "        1, 0, 0, 1, 0, 0, 1, 0, 1, 1, 0, 1, 1, 1, 1, 0, 1, 1, 1, 1, 0, 0, 1, 0,\n",
            "        0, 0, 1, 0, 0, 1, 0, 1])\n",
            "0.64125\n",
            "6.1361247301101685\n"
          ],
          "name": "stdout"
        }
      ]
    },
    {
      "cell_type": "code",
      "metadata": {
        "id": "z0xCguRBsHeh"
      },
      "source": [
        ""
      ],
      "execution_count": 16,
      "outputs": []
    },
    {
      "cell_type": "markdown",
      "metadata": {
        "id": "a4mpRpocePLN"
      },
      "source": [
        "# 3 - Evaluation\n"
      ]
    },
    {
      "cell_type": "markdown",
      "metadata": {
        "id": "lbLBzHObsvvM"
      },
      "source": [
        "## 3.1. Word Embedding Evaluation\n",
        "You are to apply Semantic-Syntactic word relationship tests for the trained word embeddings and visualise the result of Semantic-Syntactic word relationship tests.\n",
        "Note that it will not be marked if you do not display it in the ipynb file.\n"
      ]
    },
    {
      "cell_type": "code",
      "metadata": {
        "colab": {
          "base_uri": "https://localhost:8080/"
        },
        "id": "sJFNdISFsjIV",
        "outputId": "41a4711f-6f5b-4005-8c22-b2cf6d17a844"
      },
      "source": [
        "#要用语义，句法词关系来测试。[lab5-word_analogy_evaluation]\n",
        "#https://colab.research.google.com/drive/1VdNkQpeI6iLPHeTsGe6sdHQFcGyV1Kmi?usp=sharing#scrollTo=EVk7tjwvhl-6\n",
        "\n",
        "import numpy as np\n",
        "import re\n",
        "from lxml import etree \n",
        "import pprint\n",
        "import nltk\n",
        "nltk.download('punkt')\n",
        "from nltk.tokenize import word_tokenize, sent_tokenize\n",
        "from gensim.models import Word2Vec\n",
        "import warnings\n",
        "warnings.filterwarnings('ignore')\n",
        "!pip install -U -q PyDrive\n",
        "from pydrive.auth import GoogleAuth\n",
        "from pydrive.drive import GoogleDrive\n",
        "from google.colab import auth\n",
        "from oauth2client.client import GoogleCredentials\n",
        "# Authenticate and create the PyDrive client.\n",
        "auth.authenticate_user()\n",
        "gauth = GoogleAuth()\n",
        "gauth.credentials = GoogleCredentials.get_application_default()\n",
        "drive = GoogleDrive(gauth)\n",
        "\n",
        "\n",
        "\n",
        "id = '1B47OiEiG2Lo1jUY6hy_zMmHBxfKQuJ8-'\n",
        "downloaded = drive.CreateFile({'id':id}) \n",
        "downloaded.GetContentFile('ted_en-20160408.xml')  \n",
        "\n",
        "\n",
        "\n",
        "#data preprocessing\n",
        "targetXML=open('ted_en-20160408.xml', 'r', encoding='ISO-8859-1')\n",
        "target_text = etree.parse(targetXML)\n",
        "parse_text = '\\n'.join(target_text.xpath('//content/text()'))\n",
        "content_text = re.sub(r'\\([^)]*\\)', '', parse_text)\n",
        "sent_text=sent_tokenize(content_text)\n",
        "\n",
        "normalized_text = []\n",
        "for string in sent_text:\n",
        "     tokens = re.sub(r\"[^a-z0-9]+\", \" \", string.lower())\n",
        "     normalized_text.append(tokens)\n",
        "\n",
        "sentences=[]\n",
        "sentences=[word_tokenize(sentence) for sentence in normalized_text]\n",
        "\n",
        "# Prints only 10 (tokenised) sentences\n",
        "#print(sentences[:10])\n"
      ],
      "execution_count": 17,
      "outputs": [
        {
          "output_type": "stream",
          "text": [
            "[nltk_data] Downloading package punkt to /root/nltk_data...\n",
            "[nltk_data]   Unzipping tokenizers/punkt.zip.\n"
          ],
          "name": "stdout"
        }
      ]
    },
    {
      "cell_type": "code",
      "metadata": {
        "id": "3qo9ebqQslTP"
      },
      "source": [
        "#gensim word2vec #W2V-cbow\n",
        "wv_cbow_model = Word2Vec(sentences=sentences, size=100, window=5, min_count=5, workers=2, sg=0)\n",
        "wv_cbow_model.wv.save_word2vec_format('ted_cbow_w2v.txt', binary=False)\n",
        "vectors_wv_cbow=\"/content/ted_cbow_w2v.txt\"    #打开训练好的文件。vectors_file\n",
        "\n",
        "#W2v-skip gram\n",
        "wv_sg_model = Word2Vec(sentences=sentences, size=100, window=5, min_count=5, workers=2, sg=1)\n",
        "wv_sg_model.wv.save_word2vec_format('ted_sg_w2v.txt', binary=False)\n",
        "vectors_wv_sg=\"/content/ted_sg_w2v.txt\"    #打开训练好的文件。vectors_file\n",
        "\n",
        "#FastText- sg\n",
        "from gensim.models import FastText\n",
        "ft_sg_model = FastText(sentences=sentences, size=100, window=5, min_count=5, workers=2, sg=1)\n",
        "ft_sg_model.wv.save_word2vec_format('ted_sg_ft.txt', binary=False)\n",
        "vectors_ft_sg=\"/content/ted_sg_ft.txt\"    #打开训练好的文件。vectors_file\n",
        "\n",
        "# fasttext - cbow\n",
        "ft_cbow_model = FastText(sentences=sentences, size=100, window=5, min_count=5, workers=2, sg=0)\n",
        "ft_cbow_model.wv.save_word2vec_format('ted_cbow_ft.txt', binary=False)\n",
        "vectors_ft_cbow=\"/content/ted_cbow_ft.txt\"    #打开训练好的文件。vectors_file\n",
        "\n"
      ],
      "execution_count": 18,
      "outputs": []
    },
    {
      "cell_type": "code",
      "metadata": {
        "colab": {
          "base_uri": "https://localhost:8080/"
        },
        "id": "rjHhbjSUsnBq",
        "outputId": "ac743f12-8d44-4a31-fc24-fd82a6f1b700"
      },
      "source": [
        "#匹配\n",
        "def open_files(file_name):\n",
        "  with open(file_name, 'r') as f:    #vectors_file == vectors_wv_cbow  ==file_name\n",
        "    vectors = {}\n",
        "    for line in f.readlines()[1:]: # we only need the embedding vectors starting from the second line \n",
        "      vals = line.rstrip().split(' ')\n",
        "      vectors[vals[0]] = [x for x in vals[1:]]\n",
        "\n",
        "\n",
        "  vocab_words=list(vectors.keys())\n",
        "  vocab_size = len(vocab_words)\n",
        "  print(\"Vocab size: \",str(vocab_size))\n",
        "\n",
        "  # create word->index and index->word converter  \n",
        "  vocab = {w: idx for idx, w in enumerate(vocab_words)} #每个单词对应个index\n",
        "  ivocab = {idx: w for idx, w in enumerate(vocab_words)}  #每个index对应一个单词\n",
        "\n",
        "\n",
        "  # create the embedding matrix of shape (vocab_size, dim)\n",
        "  vector_dim = len(vectors[ivocab[0]])  #100\n",
        "  W = np.zeros((vocab_size, vector_dim))    #4325.100\n",
        "  for word, v in vectors.items():\n",
        "      if word == '<unk>' or word == '':   #我加的\n",
        "          continue\n",
        "      \n",
        "      W[vocab[word], :] = v   #100 102\n",
        "\n",
        "  # normalize each word vector to unit length\n",
        "  # Vectors are usually normalized to unit length before they are used for similarity calculation, making cosine similarity and dot-product equivalent.\n",
        "  W_norm = np.zeros(W.shape)\n",
        "  d = (np.sum(W ** 2, 1) ** (0.5))\n",
        "  W_norm = (W.T / d).T\n",
        "  \n",
        "  return W, vocab, W_norm\n",
        "#W, vocab\n",
        "\n",
        "#W,vocab = open_files(vectors_wv_cbow) #vectors_wv_sg  #vectors_ft_sg #vectors_ft_cbow\n",
        "#W,vocab,W_norm = open_files(vectors_wv_sg) #vectors_wv_sg  #vectors_ft_sg #vectors_ft_cbow\n",
        "W,vocab,W_norm = open_files(vectors_ft_sg) #vectors_wv_sg  #vectors_ft_sg #vectors_ft_cbow\n"
      ],
      "execution_count": 19,
      "outputs": [
        {
          "output_type": "stream",
          "text": [
            "Vocab size:  21613\n"
          ],
          "name": "stdout"
        }
      ]
    },
    {
      "cell_type": "code",
      "metadata": {
        "colab": {
          "base_uri": "https://localhost:8080/"
        },
        "id": "SvkoHvZnsqTm",
        "outputId": "ffc943ec-c127-4803-d3f4-6e5a962b09b0"
      },
      "source": [
        "\n",
        "#开始句法文本分析各种的功能语句。\n",
        "!git clone https://github.com/stanfordnlp/GloVe.git\n",
        "def evaluate_vectors(W, vocab, prefix='./content/GloVe/eval/question-data/'):#/content/GloVe/eval/question-data\n",
        "    \"\"\"Evaluate the trained word vectors on a variety of tasks\"\"\"\n",
        "\n",
        "    filenames = [\n",
        "        'capital-common-countries.txt', 'capital-world.txt', 'currency.txt',\n",
        "        'city-in-state.txt', 'family.txt', 'gram1-adjective-to-adverb.txt',\n",
        "        'gram2-opposite.txt', 'gram3-comparative.txt', 'gram4-superlative.txt',\n",
        "        'gram5-present-participle.txt', 'gram6-nationality-adjective.txt',\n",
        "        'gram7-past-tense.txt', 'gram8-plural.txt', 'gram9-plural-verbs.txt',\n",
        "        ]\n",
        "\n",
        "    # to avoid memory overflow, could be increased/decreased\n",
        "    # depending on system and vocab size\n",
        "    split_size = 100\n",
        "\n",
        "    correct_sem = 0; # count correct semantic questions  计算正确的语义问题\n",
        "    correct_syn = 0; # count correct syntactic questions 计算正确的句法问题\n",
        "    correct_tot = 0 # count correct questions   计算正确的问题\n",
        "    count_sem = 0; # count all semantic questions 计算所有语义问题\n",
        "    count_syn = 0; # count all syntactic questions  计算所有语法问题\n",
        "    count_tot = 0 # count all questions   计算所有问题  \n",
        "    full_count = 0 # count all questions, including those with unknown words    计算所有问题包括不知道n个单词的问题\n",
        "\n",
        "    for i in range(len(filenames)):\n",
        "        with open('%s/%s' % (prefix, filenames[i]), 'r') as f:\n",
        "            full_data = [line.rstrip().split(' ') for line in f]\n",
        "            full_count += len(full_data)\n",
        "            data = [x for x in full_data if all(word in vocab for word in x)]\n",
        "\n",
        "        if len(data) == 0:\n",
        "            print(\"ERROR: no lines of vocab kept for %s !\" % filenames[i])\n",
        "            print(\"Example missing line:\", full_data[0])\n",
        "            continue\n",
        "\n",
        "        indices = np.array([[vocab[word] for word in row] for row in data])\n",
        "        ind1, ind2, ind3, ind4 = indices.T\n",
        "\n",
        "        predictions = np.zeros((len(indices),))\n",
        "        num_iter = int(np.ceil(len(indices) / float(split_size)))\n",
        "        for j in range(num_iter):\n",
        "            subset = np.arange(j*split_size, min((j + 1)*split_size, len(ind1)))\n",
        "\n",
        "            pred_vec = (W[ind2[subset], :] - W[ind1[subset], :]\n",
        "                +  W[ind3[subset], :])\n",
        "\n",
        "            #cosine similarity if input W has been normalized\n",
        "            dist = np.dot(W, pred_vec.T)\n",
        "\n",
        "\n",
        "            for k in range(len(subset)):\n",
        "                dist[ind1[subset[k]], k] = -np.Inf\n",
        "                dist[ind2[subset[k]], k] = -np.Inf\n",
        "                dist[ind3[subset[k]], k] = -np.Inf\n",
        "\n",
        "            # predicted word index\n",
        "            predictions[subset] = np.argmax(dist, 0).flatten()\n",
        "\n",
        "        \n",
        "        val = (ind4 == predictions) # correct predictions\n",
        "        count_tot = count_tot + len(ind1) #216\n",
        "        correct_tot = correct_tot + sum(val)\n",
        "        if i < 5:\n",
        "            count_sem = count_sem + len(ind1)\n",
        "            correct_sem = correct_sem + sum(val)\n",
        "        else:\n",
        "            count_syn = count_syn + len(ind1)\n",
        "            correct_syn = correct_syn + sum(val)\n",
        "\n",
        "        print(\"%s:\" % filenames[i])\n",
        "        print('ACCURACY TOP1: %.2f%% (%d/%d)' %\n",
        "            (np.mean(val) * 100, np.sum(val), len(val)))\n",
        "        \n",
        "    return correct_sem, correct_syn, correct_tot, count_sem, count_syn, count_tot, full_count\n",
        "\n",
        "#可视化展示\n",
        "correct_sem, correct_syn, correct_tot, count_sem, count_syn, count_tot, full_count = evaluate_vectors(W_norm, vocab, prefix='/content/GloVe/eval/question-data')#/content/GloVe/eval/question-data\n",
        "print('Questions seen/total: %.2f%% (%d/%d)' %    #看到的问题\n",
        "    (100 * count_tot / float(full_count), count_tot, full_count))\n",
        "print('Semantic accuracy: %.2f%%  (%i/%i)' %  #语义准确度 绿色的\n",
        "    (100 * correct_sem / float(count_sem), correct_sem, count_sem))\n",
        "print('Syntactic accuracy: %.2f%%  (%i/%i)' % #语法准确度 蓝色的\n",
        "    (100 * correct_syn / float(count_syn), correct_syn, count_syn))\n",
        "print('Total accuracy: %.2f%%  (%i/%i)' % (100 * correct_tot / float(count_tot), correct_tot, count_tot))\n",
        "  #总准确度红线"
      ],
      "execution_count": 20,
      "outputs": [
        {
          "output_type": "stream",
          "text": [
            "Cloning into 'GloVe'...\n",
            "remote: Enumerating objects: 595, done.\u001b[K\n",
            "remote: Counting objects: 100% (3/3), done.\u001b[K\n",
            "remote: Compressing objects: 100% (3/3), done.\u001b[K\n",
            "remote: Total 595 (delta 0), reused 1 (delta 0), pack-reused 592\u001b[K\n",
            "Receiving objects: 100% (595/595), 222.33 KiB | 10.11 MiB/s, done.\n",
            "Resolving deltas: 100% (338/338), done.\n",
            "capital-common-countries.txt:\n",
            "ACCURACY TOP1: 0.37% (1/272)\n",
            "capital-world.txt:\n",
            "ACCURACY TOP1: 1.97% (10/507)\n",
            "currency.txt:\n",
            "ACCURACY TOP1: 0.00% (0/28)\n",
            "city-in-state.txt:\n",
            "ACCURACY TOP1: 1.47% (8/545)\n",
            "family.txt:\n",
            "ACCURACY TOP1: 33.33% (114/342)\n",
            "gram1-adjective-to-adverb.txt:\n",
            "ACCURACY TOP1: 77.46% (629/812)\n",
            "gram2-opposite.txt:\n",
            "ACCURACY TOP1: 83.99% (425/506)\n",
            "gram3-comparative.txt:\n",
            "ACCURACY TOP1: 78.45% (1045/1332)\n",
            "gram4-superlative.txt:\n",
            "ACCURACY TOP1: 85.98% (650/756)\n",
            "gram5-present-participle.txt:\n",
            "ACCURACY TOP1: 83.06% (824/992)\n",
            "gram6-nationality-adjective.txt:\n",
            "ACCURACY TOP1: 40.99% (348/849)\n",
            "gram7-past-tense.txt:\n",
            "ACCURACY TOP1: 38.33% (568/1482)\n",
            "gram8-plural.txt:\n",
            "ACCURACY TOP1: 67.85% (631/930)\n",
            "gram9-plural-verbs.txt:\n",
            "ACCURACY TOP1: 74.34% (562/756)\n",
            "Questions seen/total: 51.72% (10109/19544)\n",
            "Semantic accuracy: 7.85%  (133/1694)\n",
            "Syntactic accuracy: 67.52%  (5682/8415)\n",
            "Total accuracy: 57.52%  (5815/10109)\n"
          ],
          "name": "stdout"
        }
      ]
    },
    {
      "cell_type": "code",
      "metadata": {
        "id": "u20BOjKGst_n"
      },
      "source": [
        "'''\n",
        "import torch\n",
        "torch.save({\n",
        "    'correct_sem': correct_sem, \n",
        "    'correct_syn': correct_syn,\n",
        "    'correct_tot': correct_tot,\n",
        "    'count_sem': count_sem,\n",
        "    'count_syn': count_syn,\n",
        "    'count_tot': count_tot,\n",
        "    'full_count': full_count   \n",
        "    }, 'ft_sg.PATH')   #'w2v_cbow.PATH' ; 'w2v_sg.PATH' ;'ft_sg.PATH' ; 'ft_cbow.PATH'\n",
        "    '''"
      ],
      "execution_count": 21,
      "outputs": []
    },
    {
      "cell_type": "code",
      "metadata": {
        "colab": {
          "base_uri": "https://localhost:8080/"
        },
        "id": "LXMQ-ZLQtJOl",
        "outputId": "0ab4e960-8f53-4d9d-a87b-287715dfa2e2"
      },
      "source": [
        "'''\n",
        "import torch\n",
        "data_ft_sg = torch.load('ft_sg.PATH')\n",
        "PP = data_ft_sg['correct_sem'] #19\n",
        "LL = data_ft_sg['correct_syn'] #0.6927\n",
        "P2 = data_ft_sg['count_sem']   #tensor([0, 1, 0,  ..., 0, 1, 0])\n",
        "\n",
        "print(PP)\n",
        "print(LL)\n",
        "print(P2)\n",
        "'''\n"
      ],
      "execution_count": 22,
      "outputs": [
        {
          "output_type": "stream",
          "text": [
            "133\n",
            "5682\n",
            "1694\n"
          ],
          "name": "stdout"
        }
      ]
    },
    {
      "cell_type": "markdown",
      "metadata": {
        "id": "KEW1zMgVMREr"
      },
      "source": [
        "## 3.2. Performance Evaluation\n",
        "\n",
        "\n",
        "You are required to provide the table with precision, recall, f1 of test set.\n",
        "Note that it will not be marked if you do not display it in the ipynb file.\n"
      ]
    },
    {
      "cell_type": "code",
      "metadata": {
        "colab": {
          "base_uri": "https://localhost:8080/"
        },
        "id": "kYjd6VWKsPiq",
        "outputId": "b093d7bf-9c05-414f-c3be-8d4b98f45695"
      },
      "source": [
        "# Please comment your code\n",
        "#[lab4]在展示report说明性能。\n",
        "\n",
        "## Prediction\n",
        "\n",
        "model.eval()\n",
        "outputs2 = model(torch.from_numpy(sent_encoded_test).float().to(device)) \n",
        "predicted2 = torch.argmax(outputs2, 1)\n",
        "\n",
        "# classification_report builds a text report showing the main classification metrics\n",
        "# The returned report includes the 'weighted avg f1' we want (refer to the sample output)\n",
        "# More details can be found from: https://scikit-learn.org/stable/modules/generated/sklearn.metrics.classification_report.html\n",
        "from sklearn.metrics import classification_report\n",
        "\n",
        "\n",
        "print(classification_report(label_test, predicted2.cpu().numpy(),digits=4))\n",
        "#是改变了batch\n",
        "\n"
      ],
      "execution_count": 23,
      "outputs": [
        {
          "output_type": "stream",
          "text": [
            "              precision    recall  f1-score   support\n",
            "\n",
            "           0     0.5973    0.6600    0.6271      1000\n",
            "           1     0.6201    0.5550    0.5858      1000\n",
            "\n",
            "    accuracy                         0.6075      2000\n",
            "   macro avg     0.6087    0.6075    0.6064      2000\n",
            "weighted avg     0.6087    0.6075    0.6064      2000\n",
            "\n"
          ],
          "name": "stdout"
        }
      ]
    },
    {
      "cell_type": "code",
      "metadata": {
        "id": "ByStUsX8yR-f"
      },
      "source": [
        "def train_model(criterion, model, optimizer):\n",
        "  for epoch in range(total_epoch):\n",
        "    train_loss = 0\n",
        "    for ind in range(0,sent_encoded_train.shape[0],batch_size):\n",
        "        input_batch = sent_encoded_train[ind:min(ind+batch_size, sent_encoded_train.shape[0])] #256,22,101\n",
        "        target_batch = label_train[ind:min(ind+batch_size, sent_encoded_train.shape[0])]  #256\n",
        "        input_batch_torch = torch.from_numpy(input_batch).float().to(device)  #256,22,101\n",
        "        target_batch_torch = torch.from_numpy(target_batch).view(-1).to(device) #256\n",
        "\n",
        "        model.train()\n",
        "        optimizer.zero_grad()\n",
        "        outputs = model(input_batch_torch)   #13,512,25 #256，22，101    #256 2 #500,22,101\n",
        "        loss = criterion(outputs, target_batch_torch) #256 2    256 out,y\n",
        "        loss.backward()\n",
        "        optimizer.step()\n",
        "        \n",
        "        train_loss += loss.item()\n",
        "    predicted = torch.argmax(outputs, 1)  # 输出值为元祖获取第二个tensor        \n",
        "    acc = accuracy_score(predicted.cpu().numpy(),target_batch_torch.cpu().numpy())\n",
        "    #print('Epoch: %d, train loss: %.5f, train_acc:%.2f'%(epoch + 1, train_loss, acc))\n",
        "\n",
        "  #print('Finished Training')\n",
        "  #这块是在后面评估，可删\n",
        "  ## Prediction\n",
        "\n",
        "  model.eval()\n",
        "  outputs2 = model(torch.from_numpy(sent_encoded_test).float().to(device)) \n",
        "  predicted2 = torch.argmax(outputs2, 1)\n",
        "  return predicted2\n",
        "#=======\n",
        "  from sklearn.metrics import classification_report\n",
        "  print(classification_report(label_test, predicted2.cpu().numpy(),digits=4))\n",
        "  #是改变了batch"
      ],
      "execution_count": null,
      "outputs": []
    },
    {
      "cell_type": "code",
      "metadata": {
        "id": "nWHL9eBayCLs"
      },
      "source": [
        "from sklearn.metrics import classification_report\n",
        "#Bi-RNN\n",
        "\n",
        "criterion1 = nn.CrossEntropyLoss()\n",
        "model1 = Bi_RNN_Model().to(device)\n",
        "optimizer1 = optim.Adam(model1.parameters(), lr=learning_rate)\n",
        "\n",
        "pre_RNN = train_model(criterion1,model1,optimizer1)\n",
        "print(classification_report(label_test, pre_RNN.cpu().numpy(),digits=4))\n",
        "\n",
        "#Bi-LSTM\n",
        "criterion2 = nn.CrossEntropyLoss()\n",
        "model2 = Bi_LSTM_Model().to(device)\n",
        "optimizer2 = optim.Adam(model2.parameters(), lr=learning_rate)\n",
        "\n",
        "pre_LSTM = train_model(criterion2,model2,optimizer2)\n",
        "print(classification_report(label_test, pre_LSTM.cpu().numpy(),digits=4))\n",
        "#是改变了batch\n"
      ],
      "execution_count": null,
      "outputs": []
    },
    {
      "cell_type": "markdown",
      "metadata": {
        "id": "jRdVntwY15It"
      },
      "source": [
        "3.2end"
      ]
    },
    {
      "cell_type": "code",
      "metadata": {
        "id": "Hn0VqXdWsTCr"
      },
      "source": [
        "#备用\n",
        "\n",
        "criterion = nn.CrossEntropyLoss()\n",
        "model = Bi_RNN_Model().to(device)\n",
        "optimizer = optim.Adam(model.parameters(), lr=learning_rate)\n",
        "\n",
        "\n",
        "#Bi-LSTM\n",
        "# Move the model to GPU\n",
        "criterion = nn.CrossEntropyLoss()\n",
        "model = Bi_LSTM_Model().to(device)\n",
        "optimizer = optim.Adam(model.parameters(), lr=learning_rate)\n",
        "\n",
        "\n",
        "\n",
        "\n",
        "for epoch in range(total_epoch):\n",
        "    train_loss = 0\n",
        "    for ind in range(0,sent_encoded_train.shape[0],batch_size):\n",
        "        input_batch = sent_encoded_train[ind:min(ind+batch_size, sent_encoded_train.shape[0])] #256,22,101\n",
        "        target_batch = label_train[ind:min(ind+batch_size, sent_encoded_train.shape[0])]  #256\n",
        "        input_batch_torch = torch.from_numpy(input_batch).float().to(device)  #256,22,101\n",
        "        target_batch_torch = torch.from_numpy(target_batch).view(-1).to(device) #256\n",
        "\n",
        "        model.train()\n",
        "        optimizer.zero_grad()\n",
        "        outputs = model(input_batch_torch)   #13,512,25 #256，22，101    #256 2 #500,22,101\n",
        "        loss = criterion(outputs, target_batch_torch) #256 2    256 out,y\n",
        "        loss.backward()\n",
        "        optimizer.step()\n",
        "        \n",
        "        train_loss += loss.item()\n",
        "    predicted = torch.argmax(outputs, 1)  # 输出值为元祖获取第二个tensor        \n",
        "    acc = accuracy_score(predicted.cpu().numpy(),target_batch_torch.cpu().numpy())\n",
        "    print('Epoch: %d, train loss: %.5f, train_acc:%.2f'%(epoch + 1, train_loss, acc))\n",
        "\n",
        "print('Finished Training')\n",
        "#这块是在后面评估，可删\n",
        "## Prediction\n",
        "\n",
        "model.eval()\n",
        "outputs2 = model(torch.from_numpy(sent_encoded_test).float().to(device)) \n",
        "predicted2 = torch.argmax(outputs2, 1)\n",
        "\n",
        "\n",
        "print(classification_report(label_test, predicted2.cpu().numpy(),digits=4))\n",
        "#是改变了batch"
      ],
      "execution_count": 23,
      "outputs": []
    },
    {
      "cell_type": "markdown",
      "metadata": {
        "id": "P28Z1k36MZuo"
      },
      "source": [
        "## 3.3. Hyperparameter Testing\n",
        "*You are required to draw a graph(y-axis: f1, x-axis: epoch) for test set and explain the optimal number of epochs based on the learning rate you have already chosen.* Note that it will not be marked if you do not display it in the ipynb file.\n"
      ]
    },
    {
      "cell_type": "code",
      "metadata": {
        "colab": {
          "base_uri": "https://localhost:8080/",
          "height": 265
        },
        "id": "tH1Zt0zssWVw",
        "outputId": "0a6513f8-73e3-473d-e361-370f06d76a57"
      },
      "source": [
        "# Please comment your code\n",
        "#先把f1取出来，然后每训练一次存一次。\n",
        "from sklearn.metrics import f1_score\n",
        "f1 = f1_score(label_test, predicted2.cpu().numpy(),average='macro') #f1出来了。 真实，预测，没跑一次就一个结果。\n",
        "'''\n",
        "torch.save(model,'save.pt')\n",
        "model.load_state_dict(torch.load(\"save.pt\"))  #model.load_state_dict()函数把加载的权重复制到模型的权重中去\n",
        "'''\n",
        "\n",
        "#能一次存很多的东西。\n",
        "torch.save({\n",
        "            'epoch': epoch,\n",
        "            'model_state_dict': model.state_dict(),\n",
        "            'optimizer_state_dict': optimizer.state_dict(),\n",
        "            'loss': loss,\n",
        "            }, 'save.PATH')\n",
        "\n",
        "II = torch.load('save.PATH')\n",
        "O=model.load_state_dict(II['model_state_dict']) \n",
        "optimizer.load_state_dict(II['optimizer_state_dict'])\n",
        "PP = II['epoch'] #19\n",
        "LL = II['loss'] #0.6927\n",
        "\n",
        "model.eval()\n",
        "model.train()\n",
        "\n",
        "'''\n",
        "在保存用于推理或者继续训练的常规检查点的时候，除了模型的state_dict之外，还必须保存其他参数。保存优化器的state_dict也非常重要，因为它包含了模型在训练时候优化器的缓存和参数。除此之外，还可以保存停止训练时epoch数，最新的模型损失，额外的torch.nn.Embedding层等。\n",
        "\n",
        "要保存多个组件，则将它们放到一个字典中，然后使用torch.save()序列化这个字典。一般来说，使用.tar文件格式来保存这些检查点。\n",
        "\n",
        "加载各个组件，首先初始化模型和优化器，然后使用torch.load()加载保存的字典，然后可以直接查询字典中的值来获取保存的组件。\n",
        "\n",
        "同样，评估模型的时候一定不要忘了调用model.eval()。\n",
        "'''\n",
        "\n",
        "\n",
        "#  x是epoch y是f1 测试集\n",
        "import matplotlib.pyplot as plt\n",
        "#for epoch in range(total_epoch):  \n",
        "#x = [5, 10, 15, 20, 25, 30, 35, 40]\n",
        "x = [epoch for epoch in range(8)]\n",
        "y = [17, 24, 29, 36, 38, 47, 59, 80]\n",
        "plt.plot(x,y,'rs-',markersize =2) # 那个点\n",
        "plt.show()\n",
        "# precision: TP/(TP+FP)\n",
        "#recall\n"
      ],
      "execution_count": 24,
      "outputs": [
        {
          "output_type": "display_data",
          "data": {
            "image/png": "[encoded data removed]",
            "text/plain": [
              "<Figure size 432x288 with 1 Axes>"
            ]
          },
          "metadata": {
            "tags": [],
            "needs_background": "light"
          }
        }
      ]
    },
    {
      "cell_type": "code",
      "metadata": {
        "id": "nJ6sH-5Tenyb"
      },
      "source": [
        ""
      ],
      "execution_count": null,
      "outputs": []
    },
    {
      "cell_type": "code",
      "metadata": {
        "id": "sSDpkV-Ven70"
      },
      "source": [
        "超参数测试（2分）。\n",
        "你要提供线图，显示超参数测试（用测试数据集），\n",
        "并解释基于你选择的学习率的最佳历时数。    \n",
        "你可以有多个不同学习率的图。在图中，x轴将是epoch的数量，y轴将是f1。\n",
        "注意，如果你不在ipynb文件中显示它，它将不会被标记。\n",
        "\n",
        "'''\n",
        "何时学习率最好。 x轴将是epoch的数量，y轴将是f1。\n",
        "1搞个学习率的list[1,2,3,4,5]\n",
        "\n",
        "学习率不同线list =[]\n",
        "for 学习率\n",
        "  list每次epoch的f1 = []\n",
        "  for epoch\n",
        "    lstm 模型 求f1 ; 把它加进list每次epoch的f1（append）  #这个是每次epoch对应的f1点集。==这俩是一一对应的 （还差个epoch的list）\n",
        "  append 学习率不同线list =[] #这个用来画不同的线\n",
        "'''\n"
      ],
      "execution_count": null,
      "outputs": []
    },
    {
      "cell_type": "markdown",
      "metadata": {
        "id": "B0k8JzVwfzcQ"
      },
      "source": [
        "3。3"
      ]
    },
    {
      "cell_type": "code",
      "metadata": {
        "id": "mL_h1X5zf0k5"
      },
      "source": [
        "seq_length = doc_length_list[max_index]           #（22）应该是我规定的最大序列长度512那种  maxlength 增加减少那种 #一句话最长多少个词\n",
        "n_input = len(input_train[0][0])              #101 无所谓的反正都是101维度\n",
        "n_class = len(unique_labels)                  #2\n",
        "\n",
        "n_hidden = 512                                  #128 64 ；128； 256   512\n",
        "batch_size = 512                                #500 \n",
        "total_epoch = 15                                #10   1000句话 20 ~500\n",
        "learning_rate = [1,0.5,0.1,0.05,0.01,0.005,0.001]                          # 1e-4 == 0.001 le-3 == 0.01 #0.1  0.05\n"
      ],
      "execution_count": 37,
      "outputs": []
    },
    {
      "cell_type": "code",
      "metadata": {
        "colab": {
          "base_uri": "https://localhost:8080/"
        },
        "id": "v0nPGh5Ki2qw",
        "outputId": "e6811875-c875-4e3c-a0f4-250cfa76eb49"
      },
      "source": [
        "lr"
      ],
      "execution_count": 32,
      "outputs": [
        {
          "output_type": "execute_result",
          "data": {
            "text/plain": [
              "0"
            ]
          },
          "metadata": {
            "tags": []
          },
          "execution_count": 32
        }
      ]
    },
    {
      "cell_type": "code",
      "metadata": {
        "id": "JQENab9Sgn2r"
      },
      "source": [
        "from sklearn.metrics import f1_score\n",
        "\n",
        "line_lr = []\n",
        "for learn in range(len(learning_rate)):\n",
        "  epoch_f1 = []\n",
        "  criterion = nn.CrossEntropyLoss()\n",
        "  model = Bi_LSTM_Model().to(device)\n",
        "  optimizer = optim.Adam(model.parameters(), lr=learning_rate[learn])\n",
        "\n",
        "  for epoch in range(total_epoch):\n",
        "    train_loss = 0\n",
        "    for ind in range(0,sent_encoded_train.shape[0],batch_size):\n",
        "        input_batch = sent_encoded_train[ind:min(ind+batch_size, sent_encoded_train.shape[0])] #256,22,101\n",
        "        target_batch = label_train[ind:min(ind+batch_size, sent_encoded_train.shape[0])]  #256\n",
        "        input_batch_torch = torch.from_numpy(input_batch).float().to(device)  #256,22,101\n",
        "        target_batch_torch = torch.from_numpy(target_batch).view(-1).to(device) #256\n",
        "\n",
        "        model.train()\n",
        "        optimizer.zero_grad()\n",
        "        outputs = model(input_batch_torch)   #13,512,25 #256，22，101    #256 2 #500,22,101\n",
        "        loss = criterion(outputs, target_batch_torch) #256 2    256 out,y\n",
        "        loss.backward()\n",
        "        optimizer.step()\n",
        "        \n",
        "        train_loss += loss.item()\n",
        "    predicted = torch.argmax(outputs, 1)  # 输出值为元祖获取第二个tensor        \n",
        "    acc = accuracy_score(predicted.cpu().numpy(),target_batch_torch.cpu().numpy())\n",
        "  \n",
        "    model.eval()\n",
        "    outputs2 = model(torch.from_numpy(sent_encoded_test).float().to(device)) \n",
        "    predicted2 = torch.argmax(outputs2, 1)\n",
        "    #print(classification_report(label_test, predicted2.cpu().numpy(),digits=4))\n",
        "    f1 = f1_score(label_test, predicted2.cpu().numpy(),average='macro') #f1出来了。 真实，预测，没跑一次就一个结果。\n",
        "    epoch_f1.append(f1)\n",
        "    #print(epoch_f1)\n",
        "  line_lr.append(epoch_f1)\n",
        "  print(line_lr)\n",
        "\n",
        "#一次一分钟。"
      ],
      "execution_count": null,
      "outputs": []
    },
    {
      "cell_type": "code",
      "metadata": {
        "id": "m1ALvu4Ew3ZM"
      },
      "source": [
        ""
      ],
      "execution_count": 55,
      "outputs": []
    },
    {
      "cell_type": "code",
      "metadata": {
        "colab": {
          "base_uri": "https://localhost:8080/",
          "height": 265
        },
        "id": "2JT40elOjI1b",
        "outputId": "20c6a1dc-d643-4bdb-f017-19dac49d5a87"
      },
      "source": [
        "#  x是epoch y是f1 测试集  command+/\n",
        "import matplotlib.pyplot as plt\n",
        "#for epoch in range(total_epoch):  \n",
        "#x = [5, 10, 15, 20, 25, 30, 35, 40]\n",
        "#y = [17, 24, 29, 36, 38, 47, 59, 80]\n",
        "#[1,0.5,0.1,0.05,0.01,0.005,0.001] \n",
        "x = [epoch for epoch in range(total_epoch)]\n",
        "# y1 = [f1 for f1 in line_lr[0]]\n",
        "# y2 = [f1 for f1 in line_lr[1]]\n",
        "# y3 = [f1 for f1 in line_lr[2]]\n",
        "# y4 = [f1 for f1 in line_lr[3]]\n",
        "# y5 = [f1 for f1 in line_lr[4]]\n",
        "# y6 = [f1 for f1 in line_lr[5]]\n",
        "# y7 = [f1 for f1 in line_lr[6]]\n",
        "plt.plot(x,y1,'rs-',markersize =3,label = 'lr=1') # 那个点  红色尺寸点\n",
        "\n",
        "# plt.plot(x,y2,'g-',markersize =3, label = 'lr = 0.5') # 那个点  红色尺寸点\n",
        "# plt.plot(x,y3,'b-',markersize =3, label = 'lr = 0.1') # 那个点  红色尺寸点\n",
        "# plt.plot(x,y4,'y-',markersize =3, label = 'lr = 0.05') # 那个点  红色尺寸点\n",
        "# plt.plot(x,y5,'c-',markersize =3, label = 'lr = 0.01') # 那个点  红色尺寸点\n",
        "# plt.plot(x,y6,'m-',markersize =3, label = 'lr = 0.005') # 那个点  红色尺寸点\n",
        "# plt.plot(x,y7,'k-',markersize =3, label = 'lr = 0.001') # 那个点  红色尺寸点\n",
        "plt.xlabel('epoch')\n",
        "plt.ylabel('f1')\n",
        "plt.title('F1 cases at different learning rates.')\n",
        "plt.legend() #让标签显示出来\n",
        "plt.show()\n",
        "# precision: TP/(TP+FP)\n",
        "#recall"
      ],
      "execution_count": 51,
      "outputs": [
        {
          "output_type": "display_data",
          "data": {
            "image/png": "[encoded data removed]",
            "text/plain": [
              "<Figure size 432x288 with 1 Axes>"
            ]
          },
          "metadata": {
            "tags": [],
            "needs_background": "light"
          }
        }
      ]
    },
    {
      "cell_type": "code",
      "metadata": {
        "id": "RRwD5qxBjI7t"
      },
      "source": [
        ""
      ],
      "execution_count": null,
      "outputs": []
    },
    {
      "cell_type": "code",
      "metadata": {
        "id": "D6Q6ZdEqgq6F"
      },
      "source": [
        "criterion = nn.CrossEntropyLoss()\n",
        "model = Bi_LSTM_Model().to(device)\n",
        "optimizer = optim.Adam(model.parameters(), lr=learning_rate)\n",
        "\n",
        "for epoch in range(total_epoch):\n",
        "    train_loss = 0\n",
        "    for ind in range(0,sent_encoded_train.shape[0],batch_size):\n",
        "        input_batch = sent_encoded_train[ind:min(ind+batch_size, sent_encoded_train.shape[0])] #256,22,101\n",
        "        target_batch = label_train[ind:min(ind+batch_size, sent_encoded_train.shape[0])]  #256\n",
        "        input_batch_torch = torch.from_numpy(input_batch).float().to(device)  #256,22,101\n",
        "        target_batch_torch = torch.from_numpy(target_batch).view(-1).to(device) #256\n",
        "\n",
        "        model.train()\n",
        "        optimizer.zero_grad()\n",
        "        outputs = model(input_batch_torch)   #13,512,25 #256，22，101    #256 2 #500,22,101\n",
        "        loss = criterion(outputs, target_batch_torch) #256 2    256 out,y\n",
        "        loss.backward()\n",
        "        optimizer.step()\n",
        "        \n",
        "        train_loss += loss.item()\n",
        "    predicted = torch.argmax(outputs, 1)  # 输出值为元祖获取第二个tensor        \n",
        "    acc = accuracy_score(predicted.cpu().numpy(),target_batch_torch.cpu().numpy())\n",
        "    #print('Epoch: %d, train loss: %.5f, train_acc:%.2f'%(epoch + 1, train_loss, acc))\n",
        "\n",
        "#print('Finished Training')\n",
        "#这块是在后面评估，可删\n",
        "## Prediction\n",
        "\n",
        "model.eval()\n",
        "outputs2 = model(torch.from_numpy(sent_encoded_test).float().to(device)) \n",
        "predicted2 = torch.argmax(outputs2, 1)\n",
        "\n",
        "\n",
        "print(classification_report(label_test, predicted2.cpu().numpy(),digits=4))\n",
        "#是改变了batch"
      ],
      "execution_count": null,
      "outputs": []
    }
  ]
}