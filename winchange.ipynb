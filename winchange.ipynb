{
  "nbformat": 4,
  "nbformat_minor": 0,
  "metadata": {
    "colab": {
      "name": "winchange.ipynb",
      "provenance": [],
      "collapsed_sections": [],
      "include_colab_link": true
    },
    "kernelspec": {
      "display_name": "Python 3",
      "name": "python3"
    },
    "language_info": {
      "name": "python"
    }
  },
  "cells": [
    {
      "cell_type": "markdown",
      "metadata": {
        "id": "view-in-github",
        "colab_type": "text"
      },
      "source": [
        "<a href=\"https://colab.research.google.com/github/Alecia113/NLP-Emotional-analysis/blob/main/winchange.ipynb\" target=\"_parent\"><img src=\"https://colab.research.google.com/assets/colab-badge.svg\" alt=\"Open In Colab\"/></a>"
      ]
    },
    {
      "cell_type": "code",
      "metadata": {
        "colab": {
          "base_uri": "https://localhost:8080/"
        },
        "id": "7zZqGVn0e0Un",
        "outputId": "ee09a9e8-88d0-4dc5-d86f-23df161a6934"
      },
      "source": [
        "#要用语义，句法词关系来测试。[lab5-word_analogy_evaluation]\n",
        "#https://colab.research.google.com/drive/1VdNkQpeI6iLPHeTsGe6sdHQFcGyV1Kmi?usp=sharing#scrollTo=EVk7tjwvhl-6\n",
        "\n",
        "import numpy as np\n",
        "import re\n",
        "from lxml import etree \n",
        "import pprint\n",
        "import nltk\n",
        "nltk.download('punkt')\n",
        "from nltk.tokenize import word_tokenize, sent_tokenize\n",
        "from gensim.models import Word2Vec\n",
        "import warnings\n",
        "warnings.filterwarnings('ignore')\n",
        "!pip install -U -q PyDrive\n",
        "from pydrive.auth import GoogleAuth\n",
        "from pydrive.drive import GoogleDrive\n",
        "from google.colab import auth\n",
        "from oauth2client.client import GoogleCredentials\n",
        "# Authenticate and create the PyDrive client.\n",
        "auth.authenticate_user()\n",
        "gauth = GoogleAuth()\n",
        "gauth.credentials = GoogleCredentials.get_application_default()\n",
        "drive = GoogleDrive(gauth)\n",
        "\n",
        "\n",
        "\n",
        "id = '1B47OiEiG2Lo1jUY6hy_zMmHBxfKQuJ8-'\n",
        "downloaded = drive.CreateFile({'id':id}) \n",
        "downloaded.GetContentFile('ted_en-20160408.xml')  \n",
        "\n",
        "\n",
        "\n",
        "#data preprocessing\n",
        "targetXML=open('ted_en-20160408.xml', 'r', encoding='ISO-8859-1')\n",
        "target_text = etree.parse(targetXML)\n",
        "parse_text = '\\n'.join(target_text.xpath('//content/text()'))\n",
        "content_text = re.sub(r'\\([^)]*\\)', '', parse_text)\n",
        "sent_text=sent_tokenize(content_text)\n",
        "\n",
        "normalized_text = []\n",
        "for string in sent_text:\n",
        "     tokens = re.sub(r\"[^a-z0-9]+\", \" \", string.lower())\n",
        "     normalized_text.append(tokens)\n",
        "\n",
        "sentences=[]\n",
        "sentences=[word_tokenize(sentence) for sentence in normalized_text]\n",
        "\n",
        "# Prints only 10 (tokenised) sentences\n",
        "#print(sentences[:10])\n"
      ],
      "execution_count": null,
      "outputs": [
        {
          "output_type": "stream",
          "text": [
            "[nltk_data] Downloading package punkt to /root/nltk_data...\n",
            "[nltk_data]   Unzipping tokenizers/punkt.zip.\n"
          ],
          "name": "stdout"
        }
      ]
    },
    {
      "cell_type": "code",
      "metadata": {
        "id": "QAofhW3Dfsb3"
      },
      "source": [
        "# #gensim word2vec #W2V-cbow\n",
        "# wv_cbow_model = Word2Vec(sentences=sentences, size=100, window=5, min_count=5, workers=2, sg=0)\n",
        "# wv_cbow_model.wv.save_word2vec_format('ted_cbow_w2v.txt', binary=False)\n",
        "# vectors_wv_cbow=\"/content/ted_cbow_w2v.txt\"    #打开训练好的文件。vectors_file\n",
        "\n",
        "# #W2v-skip gram\n",
        "# wv_sg_model = Word2Vec(sentences=sentences, size=100, window=5, min_count=5, workers=2, sg=1)\n",
        "# wv_sg_model.wv.save_word2vec_format('ted_sg_w2v.txt', binary=False)\n",
        "# vectors_wv_sg=\"/content/ted_sg_w2v.txt\"    #打开训练好的文件。vectors_file\n",
        "\n",
        "# #FastText- sg\n",
        "# from gensim.models import FastText\n",
        "# ft_sg_model = FastText(sentences=sentences, size=100, window=5, min_count=5, workers=2, sg=1)\n",
        "# ft_sg_model.wv.save_word2vec_format('ted_sg_ft.txt', binary=False)\n",
        "# vectors_ft_sg=\"/content/ted_sg_ft.txt\"    #打开训练好的文件。vectors_file\n",
        "\n",
        "# # fasttext - cbow\n",
        "# ft_cbow_model = FastText(sentences=sentences, size=100, window=5, min_count=5, workers=2, sg=0)\n",
        "# ft_cbow_model.wv.save_word2vec_format('ted_cbow_ft.txt', binary=False)\n",
        "# vectors_ft_cbow=\"/content/ted_cbow_ft.txt\"    #打开训练好的文件。vectors_file\n",
        "\n"
      ],
      "execution_count": null,
      "outputs": []
    },
    {
      "cell_type": "code",
      "metadata": {
        "id": "V5xQy5nZBSRf"
      },
      "source": [
        "#gensim word2vec #W2V-cbow\n",
        "SIZE= 100\n",
        "MIN_COUNT = 5\n",
        "WINDOW = 5\n",
        "wv_cbow_model = Word2Vec(sentences=sentences, size=SIZE, window=WINDOW, min_count=MIN_COUNT, workers=2, sg=0)\n",
        "wv_cbow_model.wv.save_word2vec_format('ted_cbow_w2v.txt', binary=False)\n",
        "vectors_wv_cbow=\"/content/ted_cbow_w2v.txt\"    #打开训练好的文件。vectors_file\n",
        "\n",
        "#W2v-skip gram\n",
        "wv_sg_model = Word2Vec(sentences=sentences, size=SIZE, window=WINDOW, min_count=MIN_COUNT, workers=2, sg=1)\n",
        "wv_sg_model.wv.save_word2vec_format('ted_sg_w2v.txt', binary=False)\n",
        "vectors_wv_sg=\"/content/ted_sg_w2v.txt\"    #打开训练好的文件。vectors_file\n",
        "\n",
        "#FastText- sg\n",
        "from gensim.models import FastText\n",
        "ft_sg_model = FastText(sentences=sentences, size=SIZE, window=WINDOW, min_count=MIN_COUNT, workers=2, sg=1)\n",
        "ft_sg_model.wv.save_word2vec_format('ted_sg_ft.txt', binary=False)\n",
        "vectors_ft_sg=\"/content/ted_sg_ft.txt\"    #打开训练好的文件。vectors_file\n",
        "\n",
        "# fasttext - cbow\n",
        "ft_cbow_model = FastText(sentences=sentences, size=SIZE, window=WINDOW, min_count=MIN_COUNT, workers=2, sg=0)\n",
        "ft_cbow_model.wv.save_word2vec_format('ted_cbow_ft.txt', binary=False)\n",
        "vectors_ft_cbow=\"/content/ted_cbow_ft.txt\"    #打开训练好的文件。vectors_file\n",
        "\n"
      ],
      "execution_count": null,
      "outputs": []
    },
    {
      "cell_type": "code",
      "metadata": {
        "colab": {
          "base_uri": "https://localhost:8080/"
        },
        "id": "u0SAd6AygEty",
        "outputId": "45bc95cb-3bec-48f3-c959-c862e4f00849"
      },
      "source": [
        "#匹配\n",
        "def open_files(file_name):\n",
        "  with open(file_name, 'r') as f:    #vectors_file == vectors_wv_cbow  ==file_name\n",
        "    vectors = {}\n",
        "    for line in f.readlines()[1:]: # we only need the embedding vectors starting from the second line \n",
        "      vals = line.rstrip().split(' ')\n",
        "      vectors[vals[0]] = [x for x in vals[1:]]\n",
        "\n",
        "\n",
        "  vocab_words=list(vectors.keys())\n",
        "  vocab_size = len(vocab_words)\n",
        "  print(\"Vocab size: \",str(vocab_size))\n",
        "\n",
        "  # create word->index and index->word converter  \n",
        "  vocab = {w: idx for idx, w in enumerate(vocab_words)} #每个单词对应个index\n",
        "  ivocab = {idx: w for idx, w in enumerate(vocab_words)}  #每个index对应一个单词\n",
        "\n",
        "\n",
        "  # create the embedding matrix of shape (vocab_size, dim)\n",
        "  vector_dim = len(vectors[ivocab[0]])  #100\n",
        "  W = np.zeros((vocab_size, vector_dim))    #4325.100\n",
        "  for word, v in vectors.items():\n",
        "      if word == '<unk>' or word == '':   #我加的\n",
        "          continue\n",
        "      \n",
        "      W[vocab[word], :] = v   #100 102\n",
        "\n",
        "  # normalize each word vector to unit length\n",
        "  # Vectors are usually normalized to unit length before they are used for similarity calculation, making cosine similarity and dot-product equivalent.\n",
        "  W_norm = np.zeros(W.shape)\n",
        "  d = (np.sum(W ** 2, 1) ** (0.5))\n",
        "  W_norm = (W.T / d).T\n",
        "  \n",
        "  return W, vocab, W_norm\n",
        "#W, vocab\n",
        "\n",
        "W1,vocab1,W1_norm = open_files(vectors_wv_cbow) #vectors_wv_sg  #vectors_ft_sg #vectors_ft_cbow\n",
        "W2,vocab2,W2_norm = open_files(vectors_wv_sg) #vectors_wv_sg  #vectors_ft_sg #vectors_ft_cbow\n",
        "W3,vocab3,W3_norm = open_files(vectors_ft_sg) #vectors_wv_sg  #vectors_ft_sg #vectors_ft_cbow\n",
        "W4,vocab4,W4_norm = open_files(vectors_ft_cbow) #vectors_wv_sg  #vectors_ft_sg #vectors_ft_cbow"
      ],
      "execution_count": null,
      "outputs": [
        {
          "output_type": "stream",
          "text": [
            "Vocab size:  21613\n",
            "Vocab size:  21613\n",
            "Vocab size:  21613\n",
            "Vocab size:  21613\n"
          ],
          "name": "stdout"
        }
      ]
    },
    {
      "cell_type": "code",
      "metadata": {
        "id": "OfdTVCQbn9yU"
      },
      "source": [
        ""
      ],
      "execution_count": null,
      "outputs": []
    },
    {
      "cell_type": "code",
      "metadata": {
        "id": "CfnxKECSn-6S"
      },
      "source": [
        ""
      ],
      "execution_count": null,
      "outputs": []
    },
    {
      "cell_type": "code",
      "metadata": {
        "id": "wARmZ2ifhxIE",
        "colab": {
          "base_uri": "https://localhost:8080/",
          "height": 239
        },
        "outputId": "db6f285f-760d-4e0e-e659-eeced5aa0c18"
      },
      "source": [
        "\n",
        "#开始句法文本分析各种的功能语句。\n",
        "!git clone https://github.com/stanfordnlp/GloVe.git\n",
        "def evaluate_vectors(W, vocab, prefix='./content/GloVe/eval/question-data/'):#/content/GloVe/eval/question-data\n",
        "    \"\"\"Evaluate the trained word vectors on a variety of tasks\"\"\"\n",
        "\n",
        "    filenames = [\n",
        "        'capital-common-countries.txt', 'capital-world.txt', 'currency.txt',\n",
        "        'city-in-state.txt', 'family.txt', 'gram1-adjective-to-adverb.txt',\n",
        "        'gram2-opposite.txt', 'gram3-comparative.txt', 'gram4-superlative.txt',\n",
        "        'gram5-present-participle.txt', 'gram6-nationality-adjective.txt',\n",
        "        'gram7-past-tense.txt', 'gram8-plural.txt', 'gram9-plural-verbs.txt',\n",
        "        ]\n",
        "\n",
        "    # to avoid memory overflow, could be increased/decreased\n",
        "    # depending on system and vocab size\n",
        "    split_size = 100\n",
        "\n",
        "    correct_sem = 0; # count correct semantic questions  计算正确的语义问题\n",
        "    correct_syn = 0; # count correct syntactic questions 计算正确的句法问题\n",
        "    correct_tot = 0 # count correct questions   计算正确的问题\n",
        "    count_sem = 0; # count all semantic questions 计算所有语义问题\n",
        "    count_syn = 0; # count all syntactic questions  计算所有语法问题\n",
        "    count_tot = 0 # count all questions   计算所有问题  \n",
        "    full_count = 0 # count all questions, including those with unknown words    计算所有问题包括不知道n个单词的问题\n",
        "\n",
        "    for i in range(len(filenames)):\n",
        "        with open('%s/%s' % (prefix, filenames[i]), 'r') as f:\n",
        "            full_data = [line.rstrip().split(' ') for line in f]\n",
        "            full_count += len(full_data)\n",
        "            data = [x for x in full_data if all(word in vocab for word in x)]\n",
        "\n",
        "        if len(data) == 0:\n",
        "            print(\"ERROR: no lines of vocab kept for %s !\" % filenames[i])\n",
        "            print(\"Example missing line:\", full_data[0])\n",
        "            continue\n",
        "\n",
        "        indices = np.array([[vocab[word] for word in row] for row in data])\n",
        "        ind1, ind2, ind3, ind4 = indices.T\n",
        "\n",
        "        predictions = np.zeros((len(indices),))\n",
        "        num_iter = int(np.ceil(len(indices) / float(split_size)))\n",
        "        for j in range(num_iter):\n",
        "            subset = np.arange(j*split_size, min((j + 1)*split_size, len(ind1)))\n",
        "\n",
        "            pred_vec = (W[ind2[subset], :] - W[ind1[subset], :]\n",
        "                +  W[ind3[subset], :])\n",
        "\n",
        "            #cosine similarity if input W has been normalized\n",
        "            dist = np.dot(W, pred_vec.T)\n",
        "\n",
        "\n",
        "            for k in range(len(subset)):\n",
        "                dist[ind1[subset[k]], k] = -np.Inf\n",
        "                dist[ind2[subset[k]], k] = -np.Inf\n",
        "                dist[ind3[subset[k]], k] = -np.Inf\n",
        "\n",
        "            # predicted word index\n",
        "            predictions[subset] = np.argmax(dist, 0).flatten()\n",
        "\n",
        "        \n",
        "        val = (ind4 == predictions) # correct predictions\n",
        "        count_tot = count_tot + len(ind1) #216\n",
        "        correct_tot = correct_tot + sum(val)\n",
        "        if i < 5:\n",
        "            count_sem = count_sem + len(ind1)\n",
        "            correct_sem = correct_sem + sum(val)\n",
        "        else:\n",
        "            count_syn = count_syn + len(ind1)\n",
        "            correct_syn = correct_syn + sum(val)\n",
        "\n",
        "        print(\"%s:\" % filenames[i])\n",
        "        print('ACCURACY TOP1: %.2f%% (%d/%d)' %\n",
        "            (np.mean(val) * 100, np.sum(val), len(val)))\n",
        "        \n",
        "    return correct_sem, correct_syn, correct_tot, count_sem, count_syn, count_tot, full_count\n",
        "'''\n",
        "#可视化展示\n",
        "correct_sem, correct_syn, correct_tot, count_sem, count_syn, count_tot, full_count = evaluate_vectors(W_norm, vocab, prefix='/content/GloVe/eval/question-data')#/content/GloVe/eval/question-data\n",
        "print('Questions seen/total: %.2f%% (%d/%d)' %    #看到的问题\n",
        "    (100 * count_tot / float(full_count), count_tot, full_count))\n",
        "print('Semantic accuracy: %.2f%%  (%i/%i)' %  #语义准确度 绿色的\n",
        "    (100 * correct_sem / float(count_sem), correct_sem, count_sem))\n",
        "print('Syntactic accuracy: %.2f%%  (%i/%i)' % #语法准确度 蓝色的\n",
        "    (100 * correct_syn / float(count_syn), correct_syn, count_syn))\n",
        "print('Total accuracy: %.2f%%  (%i/%i)' % (100 * correct_tot / float(count_tot), correct_tot, count_tot))\n",
        "  #总准确度红线\n",
        "'''"
      ],
      "execution_count": null,
      "outputs": [
        {
          "output_type": "stream",
          "text": [
            "Cloning into 'GloVe'...\n",
            "remote: Enumerating objects: 595, done.\u001b[K\n",
            "remote: Counting objects: 100% (3/3), done.\u001b[K\n",
            "remote: Compressing objects: 100% (3/3), done.\u001b[K\n",
            "remote: Total 595 (delta 0), reused 1 (delta 0), pack-reused 592\u001b[K\n",
            "Receiving objects: 100% (595/595), 222.33 KiB | 2.32 MiB/s, done.\n",
            "Resolving deltas: 100% (338/338), done.\n"
          ],
          "name": "stdout"
        },
        {
          "output_type": "execute_result",
          "data": {
            "application/vnd.google.colaboratory.intrinsic+json": {
              "type": "string"
            },
            "text/plain": [
              "\"\\n#可视化展示\\ncorrect_sem, correct_syn, correct_tot, count_sem, count_syn, count_tot, full_count = evaluate_vectors(W_norm, vocab, prefix='/content/GloVe/eval/question-data')#/content/GloVe/eval/question-data\\nprint('Questions seen/total: %.2f%% (%d/%d)' %    #看到的问题\\n    (100 * count_tot / float(full_count), count_tot, full_count))\\nprint('Semantic accuracy: %.2f%%  (%i/%i)' %  #语义准确度 绿色的\\n    (100 * correct_sem / float(count_sem), correct_sem, count_sem))\\nprint('Syntactic accuracy: %.2f%%  (%i/%i)' % #语法准确度 蓝色的\\n    (100 * correct_syn / float(count_syn), correct_syn, count_syn))\\nprint('Total accuracy: %.2f%%  (%i/%i)' % (100 * correct_tot / float(count_tot), correct_tot, count_tot))\\n  #总准确度红线\\n\""
            ]
          },
          "metadata": {
            "tags": []
          },
          "execution_count": 4
        }
      ]
    },
    {
      "cell_type": "code",
      "metadata": {
        "id": "Ljenv_HXk7cm",
        "colab": {
          "base_uri": "https://localhost:8080/"
        },
        "outputId": "625f7311-2515-47ed-a2a8-79ee6eecfd70"
      },
      "source": [
        "# 1-vectors_wv_cbow； 2-vectors_wv_sg； 3-vectors_ft_sg； 4vectors_ft_cbow\n",
        "def show_answer(W_norm,vocab):\n",
        "  #可视化展示\n",
        "  correct_sem, correct_syn, correct_tot, count_sem, count_syn, count_tot, full_count = evaluate_vectors(W_norm, vocab, prefix='/content/GloVe/eval/question-data')#/content/GloVe/eval/question-data\n",
        "  Semantic = 100 * correct_sem / float(count_sem)\n",
        "  Syntactic = 100 * correct_syn / float(count_syn)\n",
        "  Total = 100 * correct_tot / float(count_tot)\n",
        "  return Semantic, Syntactic, Total\n",
        "  #overall\n",
        "Semantic_wv_cbow, Syntactic_wv_cbow, Total_wv_cbow = show_answer(W1_norm, vocab1)\n",
        "print(Total_wv_cbow)\n",
        "print('\\n')\n",
        "Semantic_wv_sg, Syntactic_wv_sg, Total_wv_sg = show_answer(W2_norm, vocab2)\n",
        "print(Total_wv_sg)\n",
        "print('\\n')\n",
        "Semantic_ft_sg, Syntactic_ft_sg, Total_ft_sg = show_answer(W3_norm, vocab3)\n",
        "print(Total_ft_sg)\n",
        "print('\\n')\n",
        "Semantic_ft_cbow, Syntactic_ft_cbow, Total_ft_cbow = show_answer(W4_norm, vocab4)\n",
        "print(Total_ft_cbow)"
      ],
      "execution_count": null,
      "outputs": [
        {
          "output_type": "stream",
          "text": [
            "capital-common-countries.txt:\n",
            "ACCURACY TOP1: 6.99% (19/272)\n",
            "capital-world.txt:\n",
            "ACCURACY TOP1: 3.16% (16/507)\n",
            "currency.txt:\n",
            "ACCURACY TOP1: 0.00% (0/28)\n",
            "city-in-state.txt:\n",
            "ACCURACY TOP1: 1.83% (10/545)\n",
            "family.txt:\n",
            "ACCURACY TOP1: 40.94% (140/342)\n",
            "gram1-adjective-to-adverb.txt:\n",
            "ACCURACY TOP1: 1.23% (10/812)\n",
            "gram2-opposite.txt:\n",
            "ACCURACY TOP1: 0.79% (4/506)\n",
            "gram3-comparative.txt:\n",
            "ACCURACY TOP1: 30.41% (405/1332)\n",
            "gram4-superlative.txt:\n",
            "ACCURACY TOP1: 11.51% (87/756)\n",
            "gram5-present-participle.txt:\n",
            "ACCURACY TOP1: 33.77% (335/992)\n",
            "gram6-nationality-adjective.txt:\n",
            "ACCURACY TOP1: 2.00% (17/849)\n",
            "gram7-past-tense.txt:\n",
            "ACCURACY TOP1: 23.68% (351/1482)\n",
            "gram8-plural.txt:\n",
            "ACCURACY TOP1: 15.05% (140/930)\n",
            "gram9-plural-verbs.txt:\n",
            "ACCURACY TOP1: 16.67% (126/756)\n",
            "16.42101098031457\n",
            "\n",
            "\n",
            "capital-common-countries.txt:\n",
            "ACCURACY TOP1: 4.78% (13/272)\n",
            "capital-world.txt:\n",
            "ACCURACY TOP1: 4.34% (22/507)\n",
            "currency.txt:\n",
            "ACCURACY TOP1: 0.00% (0/28)\n",
            "city-in-state.txt:\n",
            "ACCURACY TOP1: 2.20% (12/545)\n",
            "family.txt:\n",
            "ACCURACY TOP1: 41.52% (142/342)\n",
            "gram1-adjective-to-adverb.txt:\n",
            "ACCURACY TOP1: 2.96% (24/812)\n",
            "gram2-opposite.txt:\n",
            "ACCURACY TOP1: 2.17% (11/506)\n",
            "gram3-comparative.txt:\n",
            "ACCURACY TOP1: 39.56% (527/1332)\n",
            "gram4-superlative.txt:\n",
            "ACCURACY TOP1: 15.61% (118/756)\n",
            "gram5-present-participle.txt:\n",
            "ACCURACY TOP1: 36.59% (363/992)\n",
            "gram6-nationality-adjective.txt:\n",
            "ACCURACY TOP1: 2.36% (20/849)\n",
            "gram7-past-tense.txt:\n",
            "ACCURACY TOP1: 20.38% (302/1482)\n",
            "gram8-plural.txt:\n",
            "ACCURACY TOP1: 23.12% (215/930)\n",
            "gram9-plural-verbs.txt:\n",
            "ACCURACY TOP1: 19.84% (150/756)\n",
            "18.983084380255217\n",
            "\n",
            "\n",
            "capital-common-countries.txt:\n",
            "ACCURACY TOP1: 1.10% (3/272)\n",
            "capital-world.txt:\n",
            "ACCURACY TOP1: 2.56% (13/507)\n",
            "currency.txt:\n",
            "ACCURACY TOP1: 0.00% (0/28)\n",
            "city-in-state.txt:\n",
            "ACCURACY TOP1: 1.65% (9/545)\n",
            "family.txt:\n",
            "ACCURACY TOP1: 39.77% (136/342)\n",
            "gram1-adjective-to-adverb.txt:\n",
            "ACCURACY TOP1: 75.74% (615/812)\n",
            "gram2-opposite.txt:\n",
            "ACCURACY TOP1: 83.60% (423/506)\n",
            "gram3-comparative.txt:\n",
            "ACCURACY TOP1: 75.68% (1008/1332)\n",
            "gram4-superlative.txt:\n",
            "ACCURACY TOP1: 87.43% (661/756)\n",
            "gram5-present-participle.txt:\n",
            "ACCURACY TOP1: 79.03% (784/992)\n",
            "gram6-nationality-adjective.txt:\n",
            "ACCURACY TOP1: 40.64% (345/849)\n",
            "gram7-past-tense.txt:\n",
            "ACCURACY TOP1: 36.50% (541/1482)\n",
            "gram8-plural.txt:\n",
            "ACCURACY TOP1: 68.60% (638/930)\n",
            "gram9-plural-verbs.txt:\n",
            "ACCURACY TOP1: 74.87% (566/756)\n",
            "56.800870511425465\n",
            "\n",
            "\n",
            "capital-common-countries.txt:\n",
            "ACCURACY TOP1: 1.47% (4/272)\n",
            "capital-world.txt:\n",
            "ACCURACY TOP1: 1.18% (6/507)\n",
            "currency.txt:\n",
            "ACCURACY TOP1: 0.00% (0/28)\n",
            "city-in-state.txt:\n",
            "ACCURACY TOP1: 0.37% (2/545)\n",
            "family.txt:\n",
            "ACCURACY TOP1: 21.35% (73/342)\n",
            "gram1-adjective-to-adverb.txt:\n",
            "ACCURACY TOP1: 69.09% (561/812)\n",
            "gram2-opposite.txt:\n",
            "ACCURACY TOP1: 87.35% (442/506)\n",
            "gram3-comparative.txt:\n",
            "ACCURACY TOP1: 77.63% (1034/1332)\n",
            "gram4-superlative.txt:\n",
            "ACCURACY TOP1: 86.64% (655/756)\n",
            "gram5-present-participle.txt:\n",
            "ACCURACY TOP1: 66.03% (655/992)\n",
            "gram6-nationality-adjective.txt:\n",
            "ACCURACY TOP1: 17.90% (152/849)\n",
            "gram7-past-tense.txt:\n",
            "ACCURACY TOP1: 17.75% (263/1482)\n",
            "gram8-plural.txt:\n",
            "ACCURACY TOP1: 51.08% (475/930)\n",
            "gram9-plural-verbs.txt:\n",
            "ACCURACY TOP1: 69.71% (527/756)\n",
            "47.967157978039374\n"
          ],
          "name": "stdout"
        }
      ]
    },
    {
      "cell_type": "code",
      "metadata": {
        "id": "tjZBL7kdsLIk"
      },
      "source": [
        "SIZE= 100\n",
        "MIN_COUNT = 5\n",
        "WINDOW = 5"
      ],
      "execution_count": null,
      "outputs": []
    },
    {
      "cell_type": "code",
      "metadata": {
        "colab": {
          "base_uri": "https://localhost:8080/"
        },
        "id": "SvoKYOAosK9Q",
        "outputId": "e67371f3-576f-4667-eff8-24faaf452022"
      },
      "source": [
        "#table\n",
        "from prettytable import PrettyTable\n",
        "x = PrettyTable(['Model','Size','Window','Min_count','|','Sem','Syn','Tot'])\n",
        "x.align['Model'] = '1' #以model字段左对齐\n",
        "x.padding_width = 1 #填充快读\n",
        "x.add_row(['W2V_cbow','100','5','5','|',Semantic_wv_cbow, Syntactic_wv_cbow, Total_wv_cbow])\n",
        "x.add_row(['W2V_sg  ','100','5','5','|',Semantic_wv_sg, Syntactic_wv_sg, Total_wv_sg])\n",
        "x.add_row(['Ft_sg   ','100','5','5','|',Semantic_ft_sg, Syntactic_ft_sg, Total_ft_sg])\n",
        "x.add_row(['Ft_cbow ','100','5','5','|',Semantic_ft_cbow, Syntactic_ft_cbow, Total_ft_cbow])\n",
        "print(x)"
      ],
      "execution_count": null,
      "outputs": [
        {
          "output_type": "stream",
          "text": [
            "+----------+------+--------+-----------+---+--------------------+--------------------+--------------------+\n",
            "|  Model   | Size | Window | Min_count | | |        Sem         |        Syn         |        Tot         |\n",
            "+----------+------+--------+-----------+---+--------------------+--------------------+--------------------+\n",
            "| W2V_cbow | 100  |   5    |     5     | | | 10.920897284533648 | 17.528223410576352 | 16.42101098031457  |\n",
            "| W2V_sg   | 100  |   5    |     5     | | | 11.15702479338843  | 20.558526440879383 | 18.983084380255217 |\n",
            "| Ft_sg    | 100  |   5    |     5     | | |  9.50413223140496  |  66.3220439691028  | 56.800870511425465 |\n",
            "| Ft_cbow  | 100  |   5    |     5     | | | 5.017709563164108  | 56.613190730837786 | 47.967157978039374 |\n",
            "+----------+------+--------+-----------+---+--------------------+--------------------+--------------------+\n"
          ],
          "name": "stdout"
        }
      ]
    },
    {
      "cell_type": "code",
      "metadata": {
        "id": "Sk7AzzwOQQ47"
      },
      "source": [
        "#Ft_sg 2h\n",
        "def size_change(name, sgn):\n",
        "  size = [100,200,300,400,500,600] #x\n",
        "  MIN_COUNT = 5\n",
        "  WINDOW = 10\n",
        "  Sem_test = []\n",
        "  Syn_test = []\n",
        "  Tot_test = []\n",
        "  for s_size in range(len(size)):\n",
        "    SIZE = size[s_size]\n",
        "    size_change = name(sentences=sentences, size=SIZE, window=WINDOW, min_count=MIN_COUNT, workers=2, sg = sgn) #FastText\n",
        "    size_change.wv.save_word2vec_format('size_change.txt', binary=False)\n",
        "    vectors=\"/content/size_change.txt\"    #打开训练好的文件。vectors_file\n",
        "\n",
        "    W_test,vocab_test,W_test_norm = open_files(vectors)\n",
        "    Semantic_test, Syntactic_test, Total_test = show_answer(W_test_norm, vocab_test)\n",
        "    Sem_test.append(Semantic_test)\n",
        "    Syn_test.append(Syntactic_test)\n",
        "    Tot_test.append(Total_test)\n",
        "  return Sem_test, Syn_test, Tot_test\n",
        "\n",
        "\n",
        "#Sem_ftsg, Syn_ftsg, Tot_ftsy = size_change(FastText,1)\n",
        "\n",
        "\n",
        "# print(Sem_ftsg)\n",
        "# print(Syn_ftsg)\n",
        "# print(Tot_ftsg) \n",
        "#y=accuary\n",
        "#1多h"
      ],
      "execution_count": null,
      "outputs": []
    },
    {
      "cell_type": "code",
      "metadata": {
        "colab": {
          "base_uri": "https://localhost:8080/"
        },
        "id": "iIhCl99PTmWF",
        "outputId": "4e9e7798-19b6-4345-8393-d9fc93fd3bd4"
      },
      "source": [
        "Sem_ftsg, Syn_ftsg, Tot_ftsy = size_change(FastText,1)\n"
      ],
      "execution_count": null,
      "outputs": [
        {
          "output_type": "stream",
          "text": [
            "Vocab size:  21613\n",
            "capital-common-countries.txt:\n",
            "ACCURACY TOP1: 1.10% (3/272)\n",
            "capital-world.txt:\n",
            "ACCURACY TOP1: 2.56% (13/507)\n",
            "currency.txt:\n",
            "ACCURACY TOP1: 0.00% (0/28)\n",
            "city-in-state.txt:\n",
            "ACCURACY TOP1: 1.47% (8/545)\n",
            "family.txt:\n",
            "ACCURACY TOP1: 31.87% (109/342)\n",
            "gram1-adjective-to-adverb.txt:\n",
            "ACCURACY TOP1: 70.32% (571/812)\n",
            "gram2-opposite.txt:\n",
            "ACCURACY TOP1: 76.48% (387/506)\n",
            "gram3-comparative.txt:\n",
            "ACCURACY TOP1: 78.00% (1039/1332)\n",
            "gram4-superlative.txt:\n",
            "ACCURACY TOP1: 85.85% (649/756)\n",
            "gram5-present-participle.txt:\n",
            "ACCURACY TOP1: 78.43% (778/992)\n",
            "gram6-nationality-adjective.txt:\n",
            "ACCURACY TOP1: 47.23% (401/849)\n",
            "gram7-past-tense.txt:\n",
            "ACCURACY TOP1: 35.36% (524/1482)\n",
            "gram8-plural.txt:\n",
            "ACCURACY TOP1: 70.43% (655/930)\n",
            "gram9-plural-verbs.txt:\n",
            "ACCURACY TOP1: 71.16% (538/756)\n",
            "Vocab size:  21613\n",
            "capital-common-countries.txt:\n",
            "ACCURACY TOP1: 1.84% (5/272)\n",
            "capital-world.txt:\n",
            "ACCURACY TOP1: 2.56% (13/507)\n",
            "currency.txt:\n",
            "ACCURACY TOP1: 3.57% (1/28)\n",
            "city-in-state.txt:\n",
            "ACCURACY TOP1: 3.12% (17/545)\n",
            "family.txt:\n",
            "ACCURACY TOP1: 32.46% (111/342)\n",
            "gram1-adjective-to-adverb.txt:\n",
            "ACCURACY TOP1: 79.93% (649/812)\n",
            "gram2-opposite.txt:\n",
            "ACCURACY TOP1: 84.39% (427/506)\n",
            "gram3-comparative.txt:\n",
            "ACCURACY TOP1: 81.08% (1080/1332)\n",
            "gram4-superlative.txt:\n",
            "ACCURACY TOP1: 90.48% (684/756)\n",
            "gram5-present-participle.txt:\n",
            "ACCURACY TOP1: 77.82% (772/992)\n",
            "gram6-nationality-adjective.txt:\n",
            "ACCURACY TOP1: 53.95% (458/849)\n",
            "gram7-past-tense.txt:\n",
            "ACCURACY TOP1: 35.29% (523/1482)\n",
            "gram8-plural.txt:\n",
            "ACCURACY TOP1: 73.98% (688/930)\n",
            "gram9-plural-verbs.txt:\n",
            "ACCURACY TOP1: 77.91% (589/756)\n",
            "Vocab size:  21613\n",
            "capital-common-countries.txt:\n",
            "ACCURACY TOP1: 1.84% (5/272)\n",
            "capital-world.txt:\n",
            "ACCURACY TOP1: 1.97% (10/507)\n",
            "currency.txt:\n",
            "ACCURACY TOP1: 3.57% (1/28)\n",
            "city-in-state.txt:\n",
            "ACCURACY TOP1: 3.30% (18/545)\n",
            "family.txt:\n",
            "ACCURACY TOP1: 25.15% (86/342)\n",
            "gram1-adjective-to-adverb.txt:\n",
            "ACCURACY TOP1: 75.99% (617/812)\n",
            "gram2-opposite.txt:\n",
            "ACCURACY TOP1: 86.56% (438/506)\n",
            "gram3-comparative.txt:\n",
            "ACCURACY TOP1: 82.06% (1093/1332)\n",
            "gram4-superlative.txt:\n",
            "ACCURACY TOP1: 91.93% (695/756)\n",
            "gram5-present-participle.txt:\n",
            "ACCURACY TOP1: 80.44% (798/992)\n",
            "gram6-nationality-adjective.txt:\n",
            "ACCURACY TOP1: 56.30% (478/849)\n",
            "gram7-past-tense.txt:\n",
            "ACCURACY TOP1: 34.62% (513/1482)\n",
            "gram8-plural.txt:\n",
            "ACCURACY TOP1: 73.33% (682/930)\n",
            "gram9-plural-verbs.txt:\n",
            "ACCURACY TOP1: 80.16% (606/756)\n",
            "Vocab size:  21613\n",
            "capital-common-countries.txt:\n",
            "ACCURACY TOP1: 0.37% (1/272)\n",
            "capital-world.txt:\n",
            "ACCURACY TOP1: 2.37% (12/507)\n",
            "currency.txt:\n",
            "ACCURACY TOP1: 0.00% (0/28)\n",
            "city-in-state.txt:\n",
            "ACCURACY TOP1: 2.57% (14/545)\n",
            "family.txt:\n",
            "ACCURACY TOP1: 29.24% (100/342)\n",
            "gram1-adjective-to-adverb.txt:\n",
            "ACCURACY TOP1: 79.06% (642/812)\n",
            "gram2-opposite.txt:\n",
            "ACCURACY TOP1: 85.77% (434/506)\n",
            "gram3-comparative.txt:\n",
            "ACCURACY TOP1: 81.31% (1083/1332)\n",
            "gram4-superlative.txt:\n",
            "ACCURACY TOP1: 92.06% (696/756)\n",
            "gram5-present-participle.txt:\n",
            "ACCURACY TOP1: 77.82% (772/992)\n",
            "gram6-nationality-adjective.txt:\n",
            "ACCURACY TOP1: 53.71% (456/849)\n",
            "gram7-past-tense.txt:\n",
            "ACCURACY TOP1: 36.30% (538/1482)\n",
            "gram8-plural.txt:\n",
            "ACCURACY TOP1: 72.26% (672/930)\n",
            "gram9-plural-verbs.txt:\n",
            "ACCURACY TOP1: 79.89% (604/756)\n"
          ],
          "name": "stdout"
        }
      ]
    },
    {
      "cell_type": "code",
      "metadata": {
        "id": "vqx8o0hPTntu"
      },
      "source": [
        "Sem_ftcb, Syn_ftcb, Tot_ftcb = size_change(FastText,0)\n",
        "Sem_wvcb, Syn_wvcb, Tot_wvcb = size_change(FastText,0)\n",
        "Sem_wvsg, Syn_wvsg, Tot_wvsy = size_change(FastText,1)\n"
      ],
      "execution_count": null,
      "outputs": []
    },
    {
      "cell_type": "code",
      "metadata": {
        "id": "l7z27lVIT1s_"
      },
      "source": [
        "# #gensim word2vec #W2V-cbow\n",
        "# SIZE= 100\n",
        "# MIN_COUNT = 5\n",
        "# WINDOW = 5\n",
        "# wv_cbow_model = Word2Vec(sentences=sentences, size=SIZE, window=WINDOW, min_count=MIN_COUNT, workers=2, sg=0)\n",
        "# wv_cbow_model.wv.save_word2vec_format('ted_cbow_w2v.txt', binary=False)\n",
        "# vectors_wv_cbow=\"/content/ted_cbow_w2v.txt\"    #打开训练好的文件。vectors_file\n",
        "\n",
        "# #W2v-skip gram\n",
        "# wv_sg_model = Word2Vec(sentences=sentences, size=SIZE, window=WINDOW, min_count=MIN_COUNT, workers=2, sg=1)\n",
        "# wv_sg_model.wv.save_word2vec_format('ted_sg_w2v.txt', binary=False)\n",
        "# vectors_wv_sg=\"/content/ted_sg_w2v.txt\"    #打开训练好的文件。vectors_file\n",
        "\n",
        "# #FastText- sg\n",
        "# from gensim.models import FastText\n",
        "# ft_sg_model = FastText(sentences=sentences, size=SIZE, window=WINDOW, min_count=MIN_COUNT, workers=2, sg=1)\n",
        "# ft_sg_model.wv.save_word2vec_format('ted_sg_ft.txt', binary=False)\n",
        "# vectors_ft_sg=\"/content/ted_sg_ft.txt\"    #打开训练好的文件。vectors_file\n",
        "\n",
        "# # fasttext - cbow\n",
        "# ft_cbow_model = FastText(sentences=sentences, size=SIZE, window=WINDOW, min_count=MIN_COUNT, workers=2, sg=0)\n",
        "# ft_cbow_model.wv.save_word2vec_format('ted_cbow_ft.txt', binary=False)\n",
        "# vectors_ft_cbow=\"/content/ted_cbow_ft.txt\"    #打开训练好的文件。vectors_file\n",
        "\n"
      ],
      "execution_count": null,
      "outputs": []
    },
    {
      "cell_type": "code",
      "metadata": {
        "colab": {
          "base_uri": "https://localhost:8080/"
        },
        "id": "lTVo6bR12RO5",
        "outputId": "c185d1d9-27d6-432b-e614-406ff49606fd"
      },
      "source": [
        "#Ft_sg 2h\n",
        "'''\n",
        "第一个图：window = 10； size【0-600】（x） 把后三个准确率是y  【0，100,200,300,400,500,600]\n",
        "第二个图：size = 100 ； window【2-10】 [2.4.6,8,10]\n",
        "第三个图没get到。\n",
        "'''\n",
        "'''\n",
        "size = [100,200,300,400,500,600] #x\n",
        "MIN_COUNT = 5\n",
        "WINDOW = 10\n",
        "Sem_ftsg = []\n",
        "Syn_ftsg = []\n",
        "Tot_ftsg = []\n",
        "for s_size in range(len(size)):\n",
        "  SIZE = size[s_size]\n",
        "  test_ftsg = FastText(sentences=sentences, size=SIZE, window=WINDOW, min_count=MIN_COUNT, workers=2, sg=1)\n",
        "  test_ftsg.wv.save_word2vec_format('test_ftsg.txt', binary=False)\n",
        "  vectors_ftsg=\"/content/test_ftsg.txt\"    #打开训练好的文件。vectors_file\n",
        "\n",
        "  W_test,vocab_test,W_test_norm = open_files(vectors_ftsg)\n",
        "  Semantic_ftsg, Syntactic_ftsg, Total_ftsg = show_answer(W_test_norm, vocab_test)\n",
        "  Sem_ftsg.append(Semantic_ftsg)\n",
        "  Syn_ftsg.append(Syntactic_ftsg)\n",
        "  Tot_ftsg.append(Total_ftsg)\n",
        "print(Sem_ftsg)\n",
        "print(Syn_ftsg)\n",
        "print(Tot_ftsg)\n",
        "#y=accuary\n",
        "#1多h\n",
        "'''"
      ],
      "execution_count": null,
      "outputs": [
        {
          "output_type": "stream",
          "text": [
            "Vocab size:  21613\n",
            "capital-common-countries.txt:\n",
            "ACCURACY TOP1: 0.74% (2/272)\n",
            "capital-world.txt:\n",
            "ACCURACY TOP1: 1.58% (8/507)\n",
            "currency.txt:\n",
            "ACCURACY TOP1: 3.57% (1/28)\n",
            "city-in-state.txt:\n",
            "ACCURACY TOP1: 2.57% (14/545)\n",
            "family.txt:\n",
            "ACCURACY TOP1: 26.90% (92/342)\n",
            "gram1-adjective-to-adverb.txt:\n",
            "ACCURACY TOP1: 80.05% (650/812)\n",
            "gram2-opposite.txt:\n",
            "ACCURACY TOP1: 88.54% (448/506)\n",
            "gram3-comparative.txt:\n",
            "ACCURACY TOP1: 80.86% (1077/1332)\n",
            "gram4-superlative.txt:\n",
            "ACCURACY TOP1: 93.25% (705/756)\n",
            "gram5-present-participle.txt:\n",
            "ACCURACY TOP1: 79.44% (788/992)\n",
            "gram6-nationality-adjective.txt:\n",
            "ACCURACY TOP1: 57.24% (486/849)\n",
            "gram7-past-tense.txt:\n",
            "ACCURACY TOP1: 35.76% (530/1482)\n",
            "gram8-plural.txt:\n",
            "ACCURACY TOP1: 73.76% (686/930)\n",
            "gram9-plural-verbs.txt:\n",
            "ACCURACY TOP1: 80.56% (609/756)\n",
            "Vocab size:  21613\n",
            "capital-common-countries.txt:\n",
            "ACCURACY TOP1: 0.74% (2/272)\n",
            "capital-world.txt:\n",
            "ACCURACY TOP1: 1.58% (8/507)\n",
            "currency.txt:\n",
            "ACCURACY TOP1: 0.00% (0/28)\n",
            "city-in-state.txt:\n",
            "ACCURACY TOP1: 2.20% (12/545)\n",
            "family.txt:\n",
            "ACCURACY TOP1: 26.90% (92/342)\n",
            "gram1-adjective-to-adverb.txt:\n",
            "ACCURACY TOP1: 81.16% (659/812)\n",
            "gram2-opposite.txt:\n",
            "ACCURACY TOP1: 86.36% (437/506)\n",
            "gram3-comparative.txt:\n",
            "ACCURACY TOP1: 80.63% (1074/1332)\n",
            "gram4-superlative.txt:\n",
            "ACCURACY TOP1: 90.87% (687/756)\n",
            "gram5-present-participle.txt:\n",
            "ACCURACY TOP1: 79.94% (793/992)\n",
            "gram6-nationality-adjective.txt:\n",
            "ACCURACY TOP1: 51.83% (440/849)\n",
            "gram7-past-tense.txt:\n",
            "ACCURACY TOP1: 34.35% (509/1482)\n",
            "gram8-plural.txt:\n",
            "ACCURACY TOP1: 71.94% (669/930)\n",
            "gram9-plural-verbs.txt:\n",
            "ACCURACY TOP1: 77.91% (589/756)\n",
            "[8.85478158205431, 7.556080283353011, 7.083825265643448, 7.792207792207792, 6.906729634002361, 6.7296340023612755]\n",
            "[66.95187165775401, 70.5050505050505, 70.42186571598336, 71.15864527629233, 71.05169340463458, 69.60190136660725]\n",
            "[57.216341873578, 59.95647442872688, 59.80809179938669, 60.540112770798295, 60.30270056385399, 59.06617865268573]\n"
          ],
          "name": "stdout"
        }
      ]
    },
    {
      "cell_type": "code",
      "metadata": {
        "id": "bDEA_TDAPYQz"
      },
      "source": [
        ""
      ],
      "execution_count": null,
      "outputs": []
    },
    {
      "cell_type": "code",
      "metadata": {
        "colab": {
          "base_uri": "https://localhost:8080/",
          "height": 313
        },
        "id": "D70AsyxFEb53",
        "outputId": "9999798c-2ed8-4d0f-aaf9-040fb32d204d"
      },
      "source": [
        "import matplotlib.pyplot as plt\n",
        "import time\n",
        "#等差数列。\n",
        "x = [100,200,300,400,500,600]  #100-600\n",
        "y1 = [Semantic for Semantic in Sem_ftsg]\n",
        "y2 = [Syntactic for Syntactic in Syn_ftsg]\n",
        "y3 = [Total for Total in Tot_ftsg]\n",
        "plt.plot(x,y1,'rs-',markersize =5,label = 'Semantic')\n",
        "plt.plot(x,y2,'m-',markersize =5,label = 'Syntactic')\n",
        "plt.plot(x,y3,'k-',markersize =5,label = 'Total')\n",
        "plt.xlabel('Vector Size(Dimension)')\n",
        "plt.ylabel('Accuracy[%]')\n",
        "plt.title('The relationship between word vectors and semantics')\n",
        "plt.legend()\n",
        "plt.show()\n",
        "\n",
        "print(time.process_time()) # 返回进程运行时间"
      ],
      "execution_count": null,
      "outputs": [
        {
          "output_type": "display_data",
          "data": {
            "image/png": "[encoded data removed]",
            "text/plain": [
              "<Figure size 432x288 with 1 Axes>"
            ]
          },
          "metadata": {
            "tags": [],
            "needs_background": "light"
          }
        },
        {
          "output_type": "stream",
          "text": [
            "8089.492671243\n"
          ],
          "name": "stdout"
        }
      ]
    },
    {
      "cell_type": "markdown",
      "metadata": {
        "id": "7FkmMxkDHYsw"
      },
      "source": [
        "Window size变  size 不变"
      ]
    },
    {
      "cell_type": "code",
      "metadata": {
        "colab": {
          "base_uri": "https://localhost:8080/"
        },
        "id": "xolU_KzxkhOV",
        "outputId": "2f420adc-ce65-42b3-ed6f-0c87de1f75a6"
      },
      "source": [
        "WINDOW = [2,4,6,8,10]\n",
        "for win in range(len(WINDOW)):\n",
        "  WINDOW1 = WINDOW[win]\n",
        "  print(WINDOW1)"
      ],
      "execution_count": null,
      "outputs": [
        {
          "output_type": "stream",
          "text": [
            "2\n",
            "4\n",
            "6\n",
            "8\n",
            "10\n"
          ],
          "name": "stdout"
        }
      ]
    },
    {
      "cell_type": "code",
      "metadata": {
        "id": "hhoDkHzoQms9",
        "colab": {
          "base_uri": "https://localhost:8080/"
        },
        "outputId": "06a0a2c0-7dce-42d2-d86a-c38a86a61acf"
      },
      "source": [
        "#Ft_sg\n",
        "'''\n",
        "第一个图：window = 10； size【0-600】（x） 把后三个准确率是y  【0，100,200,300,400,500,600]\n",
        "第二个图：size = 100 ； window【2-10】 [2.4.6,8,10]\n",
        "第三个图没get到。\n",
        "'''\n",
        "import time\n",
        "since = time.time()\n",
        "def win_change(name,sgn):\n",
        "  SIZE = 100 #x\n",
        "  MIN_COUNT = 5\n",
        "  WINDOW = [2,4,6,8,10]\n",
        "  Sem_win = []\n",
        "  Syn_win = []\n",
        "  Tot_win = []\n",
        "  for win in range(len(WINDOW)):\n",
        "    WINDOW1 = WINDOW[win]\n",
        "    test_win = name(sentences=sentences, size=SIZE, window=WINDOW1, min_count=MIN_COUNT, workers=2, sg=sgn)\n",
        "    test_win.wv.save_word2vec_format('test_win.txt', binary=False)\n",
        "    vectors_win=\"/content/test_win.txt\"    #打开训练好的文件。vectors_file\n",
        "\n",
        "    W_test,vocab_test,W_test_norm = open_files(vectors_win)\n",
        "    Semantic_win, Syntactic_win, Total_win= show_answer(W_test_norm, vocab_test)\n",
        "    Sem_win.append(Semantic_win)\n",
        "    Syn_win.append(Syntactic_win)\n",
        "    Tot_win.append(Total_win)\n",
        "  \n",
        "  return Sem_win, Syn_win, Tot_win\n",
        "\n",
        "  \n",
        "# print(Sem_win_ftsg)\n",
        "# print(Syn_win_ftsg)\n",
        "# print(Tot_win_ftsg)\n",
        "time_elapsed = time.time() - since\n",
        "print('The code run {:.0f}m {:.0f}s'.format(time_elapsed // 60, time_elapsed % 60))\n",
        "#y=accuary\n"
      ],
      "execution_count": null,
      "outputs": [
        {
          "output_type": "stream",
          "text": [
            "The code run 0m 0s\n"
          ],
          "name": "stdout"
        }
      ]
    },
    {
      "cell_type": "code",
      "metadata": {
        "id": "5z2VOC-zik9W"
      },
      "source": [
        ""
      ],
      "execution_count": null,
      "outputs": []
    },
    {
      "cell_type": "code",
      "metadata": {
        "id": "xXikJqocV9Go",
        "colab": {
          "base_uri": "https://localhost:8080/"
        },
        "outputId": "091c7c2e-2e84-4d66-eec2-4c1578449e38"
      },
      "source": [
        "#运行。\n",
        "Sem_win_ftsg, Syn_win_ftsg, Tot_win_ftsy = win_change(FastText,1)\n"
      ],
      "execution_count": null,
      "outputs": [
        {
          "output_type": "stream",
          "text": [
            "Vocab size:  21613\n",
            "capital-common-countries.txt:\n",
            "ACCURACY TOP1: 0.74% (2/272)\n",
            "capital-world.txt:\n",
            "ACCURACY TOP1: 2.56% (13/507)\n",
            "currency.txt:\n",
            "ACCURACY TOP1: 0.00% (0/28)\n",
            "city-in-state.txt:\n",
            "ACCURACY TOP1: 2.02% (11/545)\n",
            "family.txt:\n",
            "ACCURACY TOP1: 30.70% (105/342)\n",
            "gram1-adjective-to-adverb.txt:\n",
            "ACCURACY TOP1: 82.88% (673/812)\n",
            "gram2-opposite.txt:\n",
            "ACCURACY TOP1: 85.18% (431/506)\n",
            "gram3-comparative.txt:\n",
            "ACCURACY TOP1: 78.75% (1049/1332)\n",
            "gram4-superlative.txt:\n",
            "ACCURACY TOP1: 90.48% (684/756)\n",
            "gram5-present-participle.txt:\n",
            "ACCURACY TOP1: 82.06% (814/992)\n",
            "gram6-nationality-adjective.txt:\n",
            "ACCURACY TOP1: 31.57% (268/849)\n",
            "gram7-past-tense.txt:\n",
            "ACCURACY TOP1: 33.06% (490/1482)\n",
            "gram8-plural.txt:\n",
            "ACCURACY TOP1: 62.15% (578/930)\n",
            "gram9-plural-verbs.txt:\n",
            "ACCURACY TOP1: 77.38% (585/756)\n",
            "Vocab size:  21613\n",
            "capital-common-countries.txt:\n",
            "ACCURACY TOP1: 0.74% (2/272)\n",
            "capital-world.txt:\n",
            "ACCURACY TOP1: 1.97% (10/507)\n",
            "currency.txt:\n",
            "ACCURACY TOP1: 0.00% (0/28)\n",
            "city-in-state.txt:\n",
            "ACCURACY TOP1: 3.30% (18/545)\n",
            "family.txt:\n",
            "ACCURACY TOP1: 35.67% (122/342)\n",
            "gram1-adjective-to-adverb.txt:\n",
            "ACCURACY TOP1: 78.94% (641/812)\n",
            "gram2-opposite.txt:\n",
            "ACCURACY TOP1: 84.58% (428/506)\n",
            "gram3-comparative.txt:\n",
            "ACCURACY TOP1: 79.95% (1065/1332)\n",
            "gram4-superlative.txt:\n",
            "ACCURACY TOP1: 87.96% (665/756)\n",
            "gram5-present-participle.txt:\n",
            "ACCURACY TOP1: 83.17% (825/992)\n",
            "gram6-nationality-adjective.txt:\n",
            "ACCURACY TOP1: 38.99% (331/849)\n",
            "gram7-past-tense.txt:\n",
            "ACCURACY TOP1: 34.55% (512/1482)\n",
            "gram8-plural.txt:\n",
            "ACCURACY TOP1: 65.59% (610/930)\n",
            "gram9-plural-verbs.txt:\n",
            "ACCURACY TOP1: 77.38% (585/756)\n",
            "Vocab size:  21613\n",
            "capital-common-countries.txt:\n",
            "ACCURACY TOP1: 1.10% (3/272)\n",
            "capital-world.txt:\n",
            "ACCURACY TOP1: 2.17% (11/507)\n",
            "currency.txt:\n",
            "ACCURACY TOP1: 0.00% (0/28)\n",
            "city-in-state.txt:\n",
            "ACCURACY TOP1: 2.02% (11/545)\n",
            "family.txt:\n",
            "ACCURACY TOP1: 39.47% (135/342)\n",
            "gram1-adjective-to-adverb.txt:\n",
            "ACCURACY TOP1: 78.69% (639/812)\n",
            "gram2-opposite.txt:\n",
            "ACCURACY TOP1: 83.00% (420/506)\n",
            "gram3-comparative.txt:\n",
            "ACCURACY TOP1: 76.28% (1016/1332)\n",
            "gram4-superlative.txt:\n",
            "ACCURACY TOP1: 85.71% (648/756)\n",
            "gram5-present-participle.txt:\n",
            "ACCURACY TOP1: 82.16% (815/992)\n",
            "gram6-nationality-adjective.txt:\n",
            "ACCURACY TOP1: 38.75% (329/849)\n",
            "gram7-past-tense.txt:\n",
            "ACCURACY TOP1: 38.12% (565/1482)\n",
            "gram8-plural.txt:\n",
            "ACCURACY TOP1: 67.85% (631/930)\n",
            "gram9-plural-verbs.txt:\n",
            "ACCURACY TOP1: 73.54% (556/756)\n",
            "Vocab size:  21613\n",
            "capital-common-countries.txt:\n",
            "ACCURACY TOP1: 1.47% (4/272)\n",
            "capital-world.txt:\n",
            "ACCURACY TOP1: 1.78% (9/507)\n",
            "currency.txt:\n",
            "ACCURACY TOP1: 0.00% (0/28)\n",
            "city-in-state.txt:\n",
            "ACCURACY TOP1: 2.94% (16/545)\n",
            "family.txt:\n",
            "ACCURACY TOP1: 35.67% (122/342)\n",
            "gram1-adjective-to-adverb.txt:\n",
            "ACCURACY TOP1: 70.20% (570/812)\n",
            "gram2-opposite.txt:\n",
            "ACCURACY TOP1: 78.85% (399/506)\n",
            "gram3-comparative.txt:\n",
            "ACCURACY TOP1: 75.45% (1005/1332)\n",
            "gram4-superlative.txt:\n",
            "ACCURACY TOP1: 84.79% (641/756)\n",
            "gram5-present-participle.txt:\n",
            "ACCURACY TOP1: 82.56% (819/992)\n",
            "gram6-nationality-adjective.txt:\n",
            "ACCURACY TOP1: 44.76% (380/849)\n",
            "gram7-past-tense.txt:\n",
            "ACCURACY TOP1: 37.18% (551/1482)\n",
            "gram8-plural.txt:\n",
            "ACCURACY TOP1: 69.03% (642/930)\n",
            "gram9-plural-verbs.txt:\n",
            "ACCURACY TOP1: 73.02% (552/756)\n",
            "Vocab size:  21613\n",
            "capital-common-countries.txt:\n",
            "ACCURACY TOP1: 1.10% (3/272)\n",
            "capital-world.txt:\n",
            "ACCURACY TOP1: 1.78% (9/507)\n",
            "currency.txt:\n",
            "ACCURACY TOP1: 0.00% (0/28)\n",
            "city-in-state.txt:\n",
            "ACCURACY TOP1: 1.65% (9/545)\n",
            "family.txt:\n",
            "ACCURACY TOP1: 37.13% (127/342)\n",
            "gram1-adjective-to-adverb.txt:\n",
            "ACCURACY TOP1: 71.06% (577/812)\n",
            "gram2-opposite.txt:\n",
            "ACCURACY TOP1: 75.30% (381/506)\n",
            "gram3-comparative.txt:\n",
            "ACCURACY TOP1: 75.23% (1002/1332)\n",
            "gram4-superlative.txt:\n",
            "ACCURACY TOP1: 85.05% (643/756)\n",
            "gram5-present-participle.txt:\n",
            "ACCURACY TOP1: 80.44% (798/992)\n",
            "gram6-nationality-adjective.txt:\n",
            "ACCURACY TOP1: 40.52% (344/849)\n",
            "gram7-past-tense.txt:\n",
            "ACCURACY TOP1: 37.38% (554/1482)\n",
            "gram8-plural.txt:\n",
            "ACCURACY TOP1: 71.40% (664/930)\n",
            "gram9-plural-verbs.txt:\n",
            "ACCURACY TOP1: 70.50% (533/756)\n"
          ],
          "name": "stdout"
        }
      ]
    },
    {
      "cell_type": "code",
      "metadata": {
        "colab": {
          "base_uri": "https://localhost:8080/"
        },
        "id": "yjn-ydMrip4V",
        "outputId": "85e461e9-04eb-46e4-aa23-4582847aee87"
      },
      "source": [
        "Sem_win_ftcb, Syn_win_ftcb, Tot_win_ftcb = win_change(FastText,0)\n"
      ],
      "execution_count": null,
      "outputs": [
        {
          "output_type": "stream",
          "text": [
            "Vocab size:  21613\n",
            "capital-common-countries.txt:\n",
            "ACCURACY TOP1: 1.10% (3/272)\n",
            "capital-world.txt:\n",
            "ACCURACY TOP1: 0.99% (5/507)\n",
            "currency.txt:\n",
            "ACCURACY TOP1: 0.00% (0/28)\n",
            "city-in-state.txt:\n",
            "ACCURACY TOP1: 0.18% (1/545)\n",
            "family.txt:\n",
            "ACCURACY TOP1: 24.27% (83/342)\n",
            "gram1-adjective-to-adverb.txt:\n",
            "ACCURACY TOP1: 71.92% (584/812)\n",
            "gram2-opposite.txt:\n",
            "ACCURACY TOP1: 85.77% (434/506)\n",
            "gram3-comparative.txt:\n",
            "ACCURACY TOP1: 81.01% (1079/1332)\n",
            "gram4-superlative.txt:\n",
            "ACCURACY TOP1: 88.76% (671/756)\n",
            "gram5-present-participle.txt:\n",
            "ACCURACY TOP1: 63.91% (634/992)\n",
            "gram6-nationality-adjective.txt:\n",
            "ACCURACY TOP1: 18.96% (161/849)\n",
            "gram7-past-tense.txt:\n",
            "ACCURACY TOP1: 19.77% (293/1482)\n",
            "gram8-plural.txt:\n",
            "ACCURACY TOP1: 51.51% (479/930)\n",
            "gram9-plural-verbs.txt:\n",
            "ACCURACY TOP1: 71.03% (537/756)\n",
            "Vocab size:  21613\n",
            "capital-common-countries.txt:\n",
            "ACCURACY TOP1: 1.10% (3/272)\n",
            "capital-world.txt:\n",
            "ACCURACY TOP1: 0.79% (4/507)\n",
            "currency.txt:\n",
            "ACCURACY TOP1: 3.57% (1/28)\n",
            "city-in-state.txt:\n",
            "ACCURACY TOP1: 0.18% (1/545)\n",
            "family.txt:\n",
            "ACCURACY TOP1: 26.32% (90/342)\n",
            "gram1-adjective-to-adverb.txt:\n",
            "ACCURACY TOP1: 69.95% (568/812)\n",
            "gram2-opposite.txt:\n",
            "ACCURACY TOP1: 87.55% (443/506)\n",
            "gram3-comparative.txt:\n",
            "ACCURACY TOP1: 78.45% (1045/1332)\n",
            "gram4-superlative.txt:\n",
            "ACCURACY TOP1: 87.30% (660/756)\n",
            "gram5-present-participle.txt:\n",
            "ACCURACY TOP1: 64.31% (638/992)\n",
            "gram6-nationality-adjective.txt:\n",
            "ACCURACY TOP1: 18.61% (158/849)\n",
            "gram7-past-tense.txt:\n",
            "ACCURACY TOP1: 18.42% (273/1482)\n",
            "gram8-plural.txt:\n",
            "ACCURACY TOP1: 52.90% (492/930)\n",
            "gram9-plural-verbs.txt:\n",
            "ACCURACY TOP1: 71.03% (537/756)\n",
            "Vocab size:  21613\n",
            "capital-common-countries.txt:\n",
            "ACCURACY TOP1: 0.74% (2/272)\n",
            "capital-world.txt:\n",
            "ACCURACY TOP1: 1.38% (7/507)\n",
            "currency.txt:\n",
            "ACCURACY TOP1: 3.57% (1/28)\n",
            "city-in-state.txt:\n",
            "ACCURACY TOP1: 0.18% (1/545)\n",
            "family.txt:\n",
            "ACCURACY TOP1: 20.47% (70/342)\n",
            "gram1-adjective-to-adverb.txt:\n",
            "ACCURACY TOP1: 70.07% (569/812)\n",
            "gram2-opposite.txt:\n",
            "ACCURACY TOP1: 86.76% (439/506)\n",
            "gram3-comparative.txt:\n",
            "ACCURACY TOP1: 78.60% (1047/1332)\n",
            "gram4-superlative.txt:\n",
            "ACCURACY TOP1: 86.90% (657/756)\n",
            "gram5-present-participle.txt:\n",
            "ACCURACY TOP1: 67.44% (669/992)\n",
            "gram6-nationality-adjective.txt:\n",
            "ACCURACY TOP1: 20.61% (175/849)\n",
            "gram7-past-tense.txt:\n",
            "ACCURACY TOP1: 17.41% (258/1482)\n",
            "gram8-plural.txt:\n",
            "ACCURACY TOP1: 52.26% (486/930)\n",
            "gram9-plural-verbs.txt:\n",
            "ACCURACY TOP1: 70.63% (534/756)\n",
            "Vocab size:  21613\n",
            "capital-common-countries.txt:\n",
            "ACCURACY TOP1: 0.74% (2/272)\n",
            "capital-world.txt:\n",
            "ACCURACY TOP1: 0.79% (4/507)\n",
            "currency.txt:\n",
            "ACCURACY TOP1: 0.00% (0/28)\n",
            "city-in-state.txt:\n",
            "ACCURACY TOP1: 0.00% (0/545)\n",
            "family.txt:\n",
            "ACCURACY TOP1: 15.50% (53/342)\n",
            "gram1-adjective-to-adverb.txt:\n",
            "ACCURACY TOP1: 69.09% (561/812)\n",
            "gram2-opposite.txt:\n",
            "ACCURACY TOP1: 84.19% (426/506)\n",
            "gram3-comparative.txt:\n",
            "ACCURACY TOP1: 75.68% (1008/1332)\n",
            "gram4-superlative.txt:\n",
            "ACCURACY TOP1: 86.38% (653/756)\n",
            "gram5-present-participle.txt:\n",
            "ACCURACY TOP1: 67.14% (666/992)\n",
            "gram6-nationality-adjective.txt:\n",
            "ACCURACY TOP1: 19.32% (164/849)\n",
            "gram7-past-tense.txt:\n",
            "ACCURACY TOP1: 18.42% (273/1482)\n",
            "gram8-plural.txt:\n",
            "ACCURACY TOP1: 51.18% (476/930)\n",
            "gram9-plural-verbs.txt:\n",
            "ACCURACY TOP1: 70.63% (534/756)\n",
            "Vocab size:  21613\n",
            "capital-common-countries.txt:\n",
            "ACCURACY TOP1: 0.37% (1/272)\n",
            "capital-world.txt:\n",
            "ACCURACY TOP1: 0.79% (4/507)\n",
            "currency.txt:\n",
            "ACCURACY TOP1: 0.00% (0/28)\n",
            "city-in-state.txt:\n",
            "ACCURACY TOP1: 0.00% (0/545)\n",
            "family.txt:\n",
            "ACCURACY TOP1: 16.67% (57/342)\n",
            "gram1-adjective-to-adverb.txt:\n",
            "ACCURACY TOP1: 67.49% (548/812)\n",
            "gram2-opposite.txt:\n",
            "ACCURACY TOP1: 85.57% (433/506)\n",
            "gram3-comparative.txt:\n",
            "ACCURACY TOP1: 77.10% (1027/1332)\n",
            "gram4-superlative.txt:\n",
            "ACCURACY TOP1: 87.43% (661/756)\n",
            "gram5-present-participle.txt:\n",
            "ACCURACY TOP1: 67.34% (668/992)\n",
            "gram6-nationality-adjective.txt:\n",
            "ACCURACY TOP1: 20.02% (170/849)\n",
            "gram7-past-tense.txt:\n",
            "ACCURACY TOP1: 18.49% (274/1482)\n",
            "gram8-plural.txt:\n",
            "ACCURACY TOP1: 51.08% (475/930)\n",
            "gram9-plural-verbs.txt:\n",
            "ACCURACY TOP1: 71.69% (542/756)\n"
          ],
          "name": "stdout"
        }
      ]
    },
    {
      "cell_type": "code",
      "metadata": {
        "colab": {
          "base_uri": "https://localhost:8080/"
        },
        "id": "ZAFN0LZKiqCk",
        "outputId": "a9ea29d9-f6ff-4ef4-ad9c-1b03a2da6777"
      },
      "source": [
        "Sem_win_wvcb, Syn_win_wvcb, Tot_win_wvcb = win_change(FastText,0)\n"
      ],
      "execution_count": null,
      "outputs": [
        {
          "output_type": "stream",
          "text": [
            "Vocab size:  21613\n",
            "capital-common-countries.txt:\n",
            "ACCURACY TOP1: 0.37% (1/272)\n",
            "capital-world.txt:\n",
            "ACCURACY TOP1: 0.99% (5/507)\n",
            "currency.txt:\n",
            "ACCURACY TOP1: 0.00% (0/28)\n",
            "city-in-state.txt:\n",
            "ACCURACY TOP1: 0.55% (3/545)\n",
            "family.txt:\n",
            "ACCURACY TOP1: 23.68% (81/342)\n",
            "gram1-adjective-to-adverb.txt:\n",
            "ACCURACY TOP1: 71.55% (581/812)\n",
            "gram2-opposite.txt:\n",
            "ACCURACY TOP1: 86.36% (437/506)\n",
            "gram3-comparative.txt:\n",
            "ACCURACY TOP1: 81.23% (1082/1332)\n",
            "gram4-superlative.txt:\n",
            "ACCURACY TOP1: 88.23% (667/756)\n",
            "gram5-present-participle.txt:\n",
            "ACCURACY TOP1: 63.51% (630/992)\n",
            "gram6-nationality-adjective.txt:\n",
            "ACCURACY TOP1: 18.85% (160/849)\n",
            "gram7-past-tense.txt:\n",
            "ACCURACY TOP1: 19.23% (285/1482)\n",
            "gram8-plural.txt:\n",
            "ACCURACY TOP1: 52.15% (485/930)\n",
            "gram9-plural-verbs.txt:\n",
            "ACCURACY TOP1: 70.37% (532/756)\n",
            "Vocab size:  21613\n",
            "capital-common-countries.txt:\n",
            "ACCURACY TOP1: 0.74% (2/272)\n",
            "capital-world.txt:\n",
            "ACCURACY TOP1: 0.99% (5/507)\n",
            "currency.txt:\n",
            "ACCURACY TOP1: 3.57% (1/28)\n",
            "city-in-state.txt:\n",
            "ACCURACY TOP1: 0.55% (3/545)\n",
            "family.txt:\n",
            "ACCURACY TOP1: 25.73% (88/342)\n",
            "gram1-adjective-to-adverb.txt:\n",
            "ACCURACY TOP1: 71.80% (583/812)\n",
            "gram2-opposite.txt:\n",
            "ACCURACY TOP1: 88.74% (449/506)\n",
            "gram3-comparative.txt:\n",
            "ACCURACY TOP1: 78.23% (1042/1332)\n",
            "gram4-superlative.txt:\n",
            "ACCURACY TOP1: 85.98% (650/756)\n",
            "gram5-present-participle.txt:\n",
            "ACCURACY TOP1: 63.51% (630/992)\n",
            "gram6-nationality-adjective.txt:\n",
            "ACCURACY TOP1: 17.43% (148/849)\n",
            "gram7-past-tense.txt:\n",
            "ACCURACY TOP1: 18.02% (267/1482)\n",
            "gram8-plural.txt:\n",
            "ACCURACY TOP1: 53.12% (494/930)\n",
            "gram9-plural-verbs.txt:\n",
            "ACCURACY TOP1: 70.90% (536/756)\n",
            "Vocab size:  21613\n",
            "capital-common-countries.txt:\n",
            "ACCURACY TOP1: 0.74% (2/272)\n",
            "capital-world.txt:\n",
            "ACCURACY TOP1: 0.79% (4/507)\n",
            "currency.txt:\n",
            "ACCURACY TOP1: 3.57% (1/28)\n",
            "city-in-state.txt:\n",
            "ACCURACY TOP1: 0.55% (3/545)\n",
            "family.txt:\n",
            "ACCURACY TOP1: 17.54% (60/342)\n",
            "gram1-adjective-to-adverb.txt:\n",
            "ACCURACY TOP1: 70.44% (572/812)\n",
            "gram2-opposite.txt:\n",
            "ACCURACY TOP1: 87.35% (442/506)\n",
            "gram3-comparative.txt:\n",
            "ACCURACY TOP1: 77.55% (1033/1332)\n",
            "gram4-superlative.txt:\n",
            "ACCURACY TOP1: 86.51% (654/756)\n",
            "gram5-present-participle.txt:\n",
            "ACCURACY TOP1: 68.35% (678/992)\n",
            "gram6-nationality-adjective.txt:\n",
            "ACCURACY TOP1: 18.85% (160/849)\n",
            "gram7-past-tense.txt:\n",
            "ACCURACY TOP1: 18.89% (280/1482)\n",
            "gram8-plural.txt:\n",
            "ACCURACY TOP1: 50.43% (469/930)\n",
            "gram9-plural-verbs.txt:\n",
            "ACCURACY TOP1: 71.83% (543/756)\n",
            "Vocab size:  21613\n",
            "capital-common-countries.txt:\n",
            "ACCURACY TOP1: 0.74% (2/272)\n",
            "capital-world.txt:\n",
            "ACCURACY TOP1: 1.18% (6/507)\n",
            "currency.txt:\n",
            "ACCURACY TOP1: 3.57% (1/28)\n",
            "city-in-state.txt:\n",
            "ACCURACY TOP1: 0.37% (2/545)\n",
            "family.txt:\n",
            "ACCURACY TOP1: 15.20% (52/342)\n",
            "gram1-adjective-to-adverb.txt:\n",
            "ACCURACY TOP1: 70.94% (576/812)\n",
            "gram2-opposite.txt:\n",
            "ACCURACY TOP1: 87.55% (443/506)\n",
            "gram3-comparative.txt:\n",
            "ACCURACY TOP1: 77.78% (1036/1332)\n",
            "gram4-superlative.txt:\n",
            "ACCURACY TOP1: 87.83% (664/756)\n",
            "gram5-present-participle.txt:\n",
            "ACCURACY TOP1: 65.32% (648/992)\n",
            "gram6-nationality-adjective.txt:\n",
            "ACCURACY TOP1: 18.85% (160/849)\n",
            "gram7-past-tense.txt:\n",
            "ACCURACY TOP1: 18.96% (281/1482)\n",
            "gram8-plural.txt:\n",
            "ACCURACY TOP1: 51.83% (482/930)\n",
            "gram9-plural-verbs.txt:\n",
            "ACCURACY TOP1: 70.90% (536/756)\n",
            "Vocab size:  21613\n",
            "capital-common-countries.txt:\n",
            "ACCURACY TOP1: 0.74% (2/272)\n",
            "capital-world.txt:\n",
            "ACCURACY TOP1: 0.59% (3/507)\n",
            "currency.txt:\n",
            "ACCURACY TOP1: 3.57% (1/28)\n",
            "city-in-state.txt:\n",
            "ACCURACY TOP1: 0.00% (0/545)\n",
            "family.txt:\n",
            "ACCURACY TOP1: 16.67% (57/342)\n",
            "gram1-adjective-to-adverb.txt:\n",
            "ACCURACY TOP1: 72.78% (591/812)\n",
            "gram2-opposite.txt:\n",
            "ACCURACY TOP1: 83.99% (425/506)\n",
            "gram3-comparative.txt:\n",
            "ACCURACY TOP1: 75.98% (1012/1332)\n",
            "gram4-superlative.txt:\n",
            "ACCURACY TOP1: 86.11% (651/756)\n",
            "gram5-present-participle.txt:\n",
            "ACCURACY TOP1: 68.85% (683/992)\n",
            "gram6-nationality-adjective.txt:\n",
            "ACCURACY TOP1: 17.90% (152/849)\n",
            "gram7-past-tense.txt:\n",
            "ACCURACY TOP1: 19.84% (294/1482)\n",
            "gram8-plural.txt:\n",
            "ACCURACY TOP1: 51.08% (475/930)\n",
            "gram9-plural-verbs.txt:\n",
            "ACCURACY TOP1: 71.03% (537/756)\n"
          ],
          "name": "stdout"
        }
      ]
    },
    {
      "cell_type": "code",
      "metadata": {
        "colab": {
          "base_uri": "https://localhost:8080/"
        },
        "id": "aDslewh2iqMk",
        "outputId": "78356505-2410-42fd-f711-c7fcab35a89f"
      },
      "source": [
        "Sem_win_wvsg, Syn_win_wvsg, Tot_win_wvsy = win_change(FastText,1)\n"
      ],
      "execution_count": null,
      "outputs": [
        {
          "output_type": "stream",
          "text": [
            "Vocab size:  21613\n",
            "capital-common-countries.txt:\n",
            "ACCURACY TOP1: 0.37% (1/272)\n",
            "capital-world.txt:\n",
            "ACCURACY TOP1: 2.56% (13/507)\n",
            "currency.txt:\n",
            "ACCURACY TOP1: 0.00% (0/28)\n",
            "city-in-state.txt:\n",
            "ACCURACY TOP1: 1.83% (10/545)\n",
            "family.txt:\n",
            "ACCURACY TOP1: 28.36% (97/342)\n",
            "gram1-adjective-to-adverb.txt:\n",
            "ACCURACY TOP1: 82.64% (671/812)\n",
            "gram2-opposite.txt:\n",
            "ACCURACY TOP1: 87.94% (445/506)\n",
            "gram3-comparative.txt:\n",
            "ACCURACY TOP1: 78.23% (1042/1332)\n",
            "gram4-superlative.txt:\n",
            "ACCURACY TOP1: 89.81% (679/756)\n",
            "gram5-present-participle.txt:\n",
            "ACCURACY TOP1: 81.25% (806/992)\n",
            "gram6-nationality-adjective.txt:\n",
            "ACCURACY TOP1: 34.28% (291/849)\n",
            "gram7-past-tense.txt:\n",
            "ACCURACY TOP1: 33.87% (502/1482)\n",
            "gram8-plural.txt:\n",
            "ACCURACY TOP1: 61.40% (571/930)\n",
            "gram9-plural-verbs.txt:\n",
            "ACCURACY TOP1: 78.17% (591/756)\n",
            "Vocab size:  21613\n",
            "capital-common-countries.txt:\n",
            "ACCURACY TOP1: 0.74% (2/272)\n",
            "capital-world.txt:\n",
            "ACCURACY TOP1: 1.58% (8/507)\n",
            "currency.txt:\n",
            "ACCURACY TOP1: 0.00% (0/28)\n",
            "city-in-state.txt:\n",
            "ACCURACY TOP1: 2.02% (11/545)\n",
            "family.txt:\n",
            "ACCURACY TOP1: 39.18% (134/342)\n",
            "gram1-adjective-to-adverb.txt:\n",
            "ACCURACY TOP1: 81.90% (665/812)\n",
            "gram2-opposite.txt:\n",
            "ACCURACY TOP1: 83.99% (425/506)\n",
            "gram3-comparative.txt:\n",
            "ACCURACY TOP1: 77.93% (1038/1332)\n",
            "gram4-superlative.txt:\n",
            "ACCURACY TOP1: 89.42% (676/756)\n",
            "gram5-present-participle.txt:\n",
            "ACCURACY TOP1: 81.75% (811/992)\n",
            "gram6-nationality-adjective.txt:\n",
            "ACCURACY TOP1: 37.10% (315/849)\n",
            "gram7-past-tense.txt:\n",
            "ACCURACY TOP1: 35.22% (522/1482)\n",
            "gram8-plural.txt:\n",
            "ACCURACY TOP1: 69.25% (644/930)\n",
            "gram9-plural-verbs.txt:\n",
            "ACCURACY TOP1: 77.12% (583/756)\n",
            "Vocab size:  21613\n",
            "capital-common-countries.txt:\n",
            "ACCURACY TOP1: 1.10% (3/272)\n",
            "capital-world.txt:\n",
            "ACCURACY TOP1: 1.78% (9/507)\n",
            "currency.txt:\n",
            "ACCURACY TOP1: 0.00% (0/28)\n",
            "city-in-state.txt:\n",
            "ACCURACY TOP1: 1.65% (9/545)\n",
            "family.txt:\n",
            "ACCURACY TOP1: 38.89% (133/342)\n",
            "gram1-adjective-to-adverb.txt:\n",
            "ACCURACY TOP1: 76.97% (625/812)\n",
            "gram2-opposite.txt:\n",
            "ACCURACY TOP1: 83.20% (421/506)\n",
            "gram3-comparative.txt:\n",
            "ACCURACY TOP1: 78.53% (1046/1332)\n",
            "gram4-superlative.txt:\n",
            "ACCURACY TOP1: 87.57% (662/756)\n",
            "gram5-present-participle.txt:\n",
            "ACCURACY TOP1: 80.24% (796/992)\n",
            "gram6-nationality-adjective.txt:\n",
            "ACCURACY TOP1: 42.17% (358/849)\n",
            "gram7-past-tense.txt:\n",
            "ACCURACY TOP1: 36.17% (536/1482)\n",
            "gram8-plural.txt:\n",
            "ACCURACY TOP1: 66.88% (622/930)\n",
            "gram9-plural-verbs.txt:\n",
            "ACCURACY TOP1: 75.93% (574/756)\n",
            "Vocab size:  21613\n",
            "capital-common-countries.txt:\n",
            "ACCURACY TOP1: 1.10% (3/272)\n",
            "capital-world.txt:\n",
            "ACCURACY TOP1: 2.17% (11/507)\n",
            "currency.txt:\n",
            "ACCURACY TOP1: 0.00% (0/28)\n",
            "city-in-state.txt:\n",
            "ACCURACY TOP1: 0.92% (5/545)\n",
            "family.txt:\n",
            "ACCURACY TOP1: 39.47% (135/342)\n",
            "gram1-adjective-to-adverb.txt:\n",
            "ACCURACY TOP1: 70.81% (575/812)\n",
            "gram2-opposite.txt:\n",
            "ACCURACY TOP1: 80.63% (408/506)\n",
            "gram3-comparative.txt:\n",
            "ACCURACY TOP1: 78.23% (1042/1332)\n",
            "gram4-superlative.txt:\n",
            "ACCURACY TOP1: 85.71% (648/756)\n",
            "gram5-present-participle.txt:\n",
            "ACCURACY TOP1: 78.83% (782/992)\n",
            "gram6-nationality-adjective.txt:\n",
            "ACCURACY TOP1: 44.76% (380/849)\n",
            "gram7-past-tense.txt:\n",
            "ACCURACY TOP1: 37.18% (551/1482)\n",
            "gram8-plural.txt:\n",
            "ACCURACY TOP1: 71.61% (666/930)\n",
            "gram9-plural-verbs.txt:\n",
            "ACCURACY TOP1: 75.00% (567/756)\n",
            "Vocab size:  21613\n",
            "capital-common-countries.txt:\n",
            "ACCURACY TOP1: 1.10% (3/272)\n",
            "capital-world.txt:\n",
            "ACCURACY TOP1: 1.78% (9/507)\n",
            "currency.txt:\n",
            "ACCURACY TOP1: 0.00% (0/28)\n",
            "city-in-state.txt:\n",
            "ACCURACY TOP1: 2.39% (13/545)\n",
            "family.txt:\n",
            "ACCURACY TOP1: 38.01% (130/342)\n",
            "gram1-adjective-to-adverb.txt:\n",
            "ACCURACY TOP1: 71.55% (581/812)\n",
            "gram2-opposite.txt:\n",
            "ACCURACY TOP1: 75.69% (383/506)\n",
            "gram3-comparative.txt:\n",
            "ACCURACY TOP1: 77.18% (1028/1332)\n",
            "gram4-superlative.txt:\n",
            "ACCURACY TOP1: 85.05% (643/756)\n",
            "gram5-present-participle.txt:\n",
            "ACCURACY TOP1: 82.46% (818/992)\n",
            "gram6-nationality-adjective.txt:\n",
            "ACCURACY TOP1: 47.11% (400/849)\n",
            "gram7-past-tense.txt:\n",
            "ACCURACY TOP1: 37.52% (556/1482)\n",
            "gram8-plural.txt:\n",
            "ACCURACY TOP1: 71.51% (665/930)\n",
            "gram9-plural-verbs.txt:\n",
            "ACCURACY TOP1: 72.88% (551/756)\n"
          ],
          "name": "stdout"
        }
      ]
    },
    {
      "cell_type": "code",
      "metadata": {
        "colab": {
          "base_uri": "https://localhost:8080/"
        },
        "id": "Q9Axkoj-HaYw",
        "outputId": "f78d9029-c7c4-44de-8304-04a6fd3456fb"
      },
      "source": [
        "#Ft_sg\n",
        "'''\n",
        "第一个图：window = 10； size【0-600】（x） 把后三个准确率是y  【0，100,200,300,400,500,600]\n",
        "第二个图：size = 100 ； window【2-10】 [2.4.6,8,10]\n",
        "第三个图没get到。\n",
        "'''\n",
        "'''\n",
        "since = time.time()\n",
        "\n",
        "SIZE = 100 #x\n",
        "MIN_COUNT = 5\n",
        "WINDOW = [2,4,6,8,10]\n",
        "Sem_win_ftsg = []\n",
        "Syn_win_ftsg = []\n",
        "Tot_win_ftsg = []\n",
        "for win in range(len(WINDOW)):\n",
        "  WINDOW = size[win]\n",
        "  test_ftsg = FastText(sentences=sentences, size=SIZE, window=WINDOW, min_count=MIN_COUNT, workers=2, sg=1)\n",
        "  test_ftsg.wv.save_word2vec_format('test_ftsg.txt', binary=False)\n",
        "  vectors_ftsg=\"/content/test_ftsg.txt\"    #打开训练好的文件。vectors_file\n",
        "\n",
        "  W_test,vocab_test,W_test_norm = open_files(vectors_ftsg)\n",
        "  Semantic_ftsg, Syntactic_ftsg, Total_ftsg = show_answer(W_test_norm, vocab_test)\n",
        "  Sem_win_ftsg.append(Semantic_ftsg)\n",
        "  Syn_win_ftsg.append(Syntactic_ftsg)\n",
        "  Tot_win_ftsg.append(Total_ftsg)\n",
        "print(Sem_win_ftsg)\n",
        "print(Syn_win_ftsg)\n",
        "print(Tot_win_ftsg)\n",
        "time_elapsed = time.time() - since\n",
        "print('The code run {:.0f}m {:.0f}s'.format(time_elapsed // 60, time_elapsed % 60))\n",
        "#y=accuary\n",
        "'''"
      ],
      "execution_count": null,
      "outputs": [
        {
          "output_type": "stream",
          "text": [
            "Vocab size:  21613\n",
            "capital-common-countries.txt:\n",
            "ACCURACY TOP1: 6.62% (18/272)\n",
            "capital-world.txt:\n",
            "ACCURACY TOP1: 3.94% (20/507)\n",
            "currency.txt:\n",
            "ACCURACY TOP1: 0.00% (0/28)\n",
            "city-in-state.txt:\n",
            "ACCURACY TOP1: 2.57% (14/545)\n",
            "family.txt:\n",
            "ACCURACY TOP1: 25.44% (87/342)\n",
            "gram1-adjective-to-adverb.txt:\n",
            "ACCURACY TOP1: 57.76% (469/812)\n",
            "gram2-opposite.txt:\n",
            "ACCURACY TOP1: 59.29% (300/506)\n",
            "gram3-comparative.txt:\n",
            "ACCURACY TOP1: 61.94% (825/1332)\n",
            "gram4-superlative.txt:\n",
            "ACCURACY TOP1: 67.46% (510/756)\n",
            "gram5-present-participle.txt:\n",
            "ACCURACY TOP1: 70.06% (695/992)\n",
            "gram6-nationality-adjective.txt:\n",
            "ACCURACY TOP1: 50.65% (430/849)\n",
            "gram7-past-tense.txt:\n",
            "ACCURACY TOP1: 34.55% (512/1482)\n",
            "gram8-plural.txt:\n",
            "ACCURACY TOP1: 67.74% (630/930)\n",
            "gram9-plural-verbs.txt:\n",
            "ACCURACY TOP1: 57.80% (437/756)\n",
            "Vocab size:  21613\n",
            "capital-common-countries.txt:\n",
            "ACCURACY TOP1: 5.88% (16/272)\n",
            "capital-world.txt:\n",
            "ACCURACY TOP1: 3.75% (19/507)\n",
            "currency.txt:\n",
            "ACCURACY TOP1: 0.00% (0/28)\n",
            "city-in-state.txt:\n",
            "ACCURACY TOP1: 1.65% (9/545)\n",
            "family.txt:\n",
            "ACCURACY TOP1: 23.98% (82/342)\n",
            "gram1-adjective-to-adverb.txt:\n",
            "ACCURACY TOP1: 55.17% (448/812)\n",
            "gram2-opposite.txt:\n",
            "ACCURACY TOP1: 62.25% (315/506)\n",
            "gram3-comparative.txt:\n",
            "ACCURACY TOP1: 60.21% (802/1332)\n",
            "gram4-superlative.txt:\n",
            "ACCURACY TOP1: 68.12% (515/756)\n",
            "gram5-present-participle.txt:\n",
            "ACCURACY TOP1: 69.05% (685/992)\n",
            "gram6-nationality-adjective.txt:\n",
            "ACCURACY TOP1: 52.06% (442/849)\n",
            "gram7-past-tense.txt:\n",
            "ACCURACY TOP1: 38.39% (569/1482)\n",
            "gram8-plural.txt:\n",
            "ACCURACY TOP1: 70.11% (652/930)\n",
            "gram9-plural-verbs.txt:\n",
            "ACCURACY TOP1: 57.01% (431/756)\n",
            "Vocab size:  21613\n",
            "capital-common-countries.txt:\n",
            "ACCURACY TOP1: 5.88% (16/272)\n",
            "capital-world.txt:\n",
            "ACCURACY TOP1: 4.54% (23/507)\n",
            "currency.txt:\n",
            "ACCURACY TOP1: 0.00% (0/28)\n",
            "city-in-state.txt:\n",
            "ACCURACY TOP1: 1.47% (8/545)\n",
            "family.txt:\n",
            "ACCURACY TOP1: 26.90% (92/342)\n",
            "gram1-adjective-to-adverb.txt:\n",
            "ACCURACY TOP1: 57.51% (467/812)\n",
            "gram2-opposite.txt:\n",
            "ACCURACY TOP1: 57.71% (292/506)\n",
            "gram3-comparative.txt:\n",
            "ACCURACY TOP1: 60.51% (806/1332)\n",
            "gram4-superlative.txt:\n",
            "ACCURACY TOP1: 60.85% (460/756)\n",
            "gram5-present-participle.txt:\n",
            "ACCURACY TOP1: 65.32% (648/992)\n",
            "gram6-nationality-adjective.txt:\n",
            "ACCURACY TOP1: 53.12% (451/849)\n",
            "gram7-past-tense.txt:\n",
            "ACCURACY TOP1: 34.68% (514/1482)\n",
            "gram8-plural.txt:\n",
            "ACCURACY TOP1: 71.94% (669/930)\n",
            "gram9-plural-verbs.txt:\n",
            "ACCURACY TOP1: 57.67% (436/756)\n",
            "Vocab size:  21613\n",
            "capital-common-countries.txt:\n",
            "ACCURACY TOP1: 5.51% (15/272)\n",
            "capital-world.txt:\n",
            "ACCURACY TOP1: 3.94% (20/507)\n",
            "currency.txt:\n",
            "ACCURACY TOP1: 0.00% (0/28)\n",
            "city-in-state.txt:\n",
            "ACCURACY TOP1: 1.47% (8/545)\n",
            "family.txt:\n",
            "ACCURACY TOP1: 28.95% (99/342)\n",
            "gram1-adjective-to-adverb.txt:\n",
            "ACCURACY TOP1: 54.31% (441/812)\n",
            "gram2-opposite.txt:\n",
            "ACCURACY TOP1: 58.50% (296/506)\n",
            "gram3-comparative.txt:\n",
            "ACCURACY TOP1: 60.89% (811/1332)\n",
            "gram4-superlative.txt:\n",
            "ACCURACY TOP1: 61.38% (464/756)\n",
            "gram5-present-participle.txt:\n",
            "ACCURACY TOP1: 69.05% (685/992)\n",
            "gram6-nationality-adjective.txt:\n",
            "ACCURACY TOP1: 53.71% (456/849)\n",
            "gram7-past-tense.txt:\n",
            "ACCURACY TOP1: 32.12% (476/1482)\n",
            "gram8-plural.txt:\n",
            "ACCURACY TOP1: 69.46% (646/930)\n",
            "gram9-plural-verbs.txt:\n",
            "ACCURACY TOP1: 56.08% (424/756)\n",
            "Vocab size:  21613\n",
            "capital-common-countries.txt:\n",
            "ACCURACY TOP1: 4.78% (13/272)\n",
            "capital-world.txt:\n",
            "ACCURACY TOP1: 3.75% (19/507)\n",
            "currency.txt:\n",
            "ACCURACY TOP1: 0.00% (0/28)\n",
            "city-in-state.txt:\n",
            "ACCURACY TOP1: 1.83% (10/545)\n",
            "family.txt:\n",
            "ACCURACY TOP1: 28.36% (97/342)\n",
            "gram1-adjective-to-adverb.txt:\n",
            "ACCURACY TOP1: 57.27% (465/812)\n",
            "gram2-opposite.txt:\n",
            "ACCURACY TOP1: 59.09% (299/506)\n",
            "gram3-comparative.txt:\n",
            "ACCURACY TOP1: 59.83% (797/1332)\n",
            "gram4-superlative.txt:\n",
            "ACCURACY TOP1: 60.85% (460/756)\n",
            "gram5-present-participle.txt:\n",
            "ACCURACY TOP1: 66.94% (664/992)\n",
            "gram6-nationality-adjective.txt:\n",
            "ACCURACY TOP1: 53.24% (452/849)\n",
            "gram7-past-tense.txt:\n",
            "ACCURACY TOP1: 33.47% (496/1482)\n",
            "gram8-plural.txt:\n",
            "ACCURACY TOP1: 68.06% (633/930)\n",
            "gram9-plural-verbs.txt:\n",
            "ACCURACY TOP1: 59.13% (447/756)\n",
            "[8.20543093270366, 7.43801652892562, 8.20543093270366, 8.382526564344746, 8.20543093270366]\n",
            "[57.136066547831255, 57.74212715389186, 56.36363636363637, 55.8407605466429, 56.007130124777184]\n",
            "[48.93659115639529, 49.31249381739045, 48.293599762587796, 47.8880205757246, 47.99683450390741]\n",
            "The code run 43m 4s\n"
          ],
          "name": "stdout"
        }
      ]
    },
    {
      "cell_type": "code",
      "metadata": {
        "id": "IOJWbcoYy_EJ"
      },
      "source": [
        "Sem_win_wvsg, Syn_win_wvsg, Tot_win_wvsy = win_change(FastText,1)\n",
        "Sem_win_ftcb, Syn_win_ftcb, Tot_win_ftcb = win_change(FastText,0)\n",
        "Sem_win_wvcb, Syn_win_wvcb, Tot_win_wvcb = win_change(FastText,0)\n",
        "Sem_win_ftsg, Syn_win_ftsg, Tot_win_ftsy = win_change(FastText,1)"
      ],
      "execution_count": null,
      "outputs": []
    },
    {
      "cell_type": "code",
      "metadata": {
        "id": "gOgeFiYGzyC2"
      },
      "source": [
        "def appd(name1,name2,name3):\n",
        "  k1 = [0]\n",
        "  k2 = [0]\n",
        "  k3 = [0]\n",
        "  for i in range(5):\n",
        "    k1.append(name1[i])\n",
        "    k2.append(name2[i])\n",
        "    k3.append(name3[i])\n",
        "  return k1, k2, k3\n",
        "\n",
        "k1, k2, k3 = appd(Sem_win_ftsg,Syn_win_ftsg,Tot_win_ftsy)"
      ],
      "execution_count": null,
      "outputs": []
    },
    {
      "cell_type": "code",
      "metadata": {
        "id": "OAD7xwoG0Szw"
      },
      "source": [
        "k4, k5, k6 = appd(Sem_win_wvsg,Syn_win_wvsg,Tot_win_wvsy)"
      ],
      "execution_count": null,
      "outputs": []
    },
    {
      "cell_type": "code",
      "metadata": {
        "id": "gMvLXFYv14_q"
      },
      "source": [
        "k7, k8, k9 = appd(Sem_win_ftcb,Syn_win_ftcb,Tot_win_ftcb)"
      ],
      "execution_count": null,
      "outputs": []
    },
    {
      "cell_type": "code",
      "metadata": {
        "id": "2zfFWrXb16lp"
      },
      "source": [
        "k10, k11, k12 = appd(Sem_win_wvcb,Syn_win_wvcb,Tot_win_wvcb)"
      ],
      "execution_count": null,
      "outputs": []
    },
    {
      "cell_type": "code",
      "metadata": {
        "id": "RbnaY73-ZpJ2"
      },
      "source": [
        ""
      ],
      "execution_count": null,
      "outputs": []
    },
    {
      "cell_type": "code",
      "metadata": {
        "colab": {
          "base_uri": "https://localhost:8080/",
          "height": 295
        },
        "id": "zyl4McytJB3_",
        "outputId": "6a3fc830-f0db-40fe-c3c0-54a9be4171a4"
      },
      "source": [
        "import matplotlib.pyplot as plt\n",
        "#等差数列。\n",
        "x = [0,2,4,6,8,10]\n",
        "yw1 = [Semantic for Semantic in k1]\n",
        "yw2 = [Syntactic for Syntactic in k2]\n",
        "yw3 = [Total for Total in k3]\n",
        "plt.plot(x,yw1,'rs-',markersize =5,label = 'Semantic_ftsg')\n",
        "plt.plot(x,yw2,'m-',markersize =5,label = 'Syntactic_ftsg')\n",
        "plt.plot(x,yw3,'k-',markersize =5,label = 'Total_ftsg')\n",
        "yw4 = [Semantic for Semantic in k4]\n",
        "yw5 = [Syntactic for Syntactic in k5]\n",
        "yw6 = [Total for Total in k6]\n",
        "plt.plot(x,yw4,'g-',markersize =5,label = 'Semantic_wvsg')\n",
        "plt.plot(x,yw5,'p-',markersize =5,label = 'Syntactic_wvsg')\n",
        "plt.plot(x,yw6,'y-',markersize =5,label = 'Total_wvsg')\n",
        "\n",
        "yw7= [Semantic for Semantic in k7]\n",
        "yw8 = [Syntactic for Syntactic in k8]\n",
        "yw9 = [Total for Total in k9]\n",
        "plt.plot(x,yw7,'o-',markersize =5,label = 'Semantic_ftcb')\n",
        "plt.plot(x,yw8,'b-',markersize =5,label = 'Syntactic_ftcb')\n",
        "plt.plot(x,yw9,'#FFB6C1',markersize =5,label = 'Total_ftcb')\n",
        "\n",
        "yw10 = [Semantic for Semantic in k10]\n",
        "yw11 = [Syntactic for Syntactic in k11]\n",
        "yw12 = [Total for Total in k12]\n",
        "plt.plot(x,yw10,'#B22222',markersize =5,label = 'Semantic_wvcb')\n",
        "plt.plot(x,yw11,'#00FF00',markersize =5,label = 'Syntactic_wvcb')\n",
        "plt.plot(x,yw12,'#0000CD',markersize =5,label = 'Total_wvcb')\n",
        "\n",
        "plt.xlabel('Window Size')\n",
        "plt.ylabel('Accuracy[%]')\n",
        "plt.title('The relationship between window size and semantics')\n",
        "plt.legend()\n",
        "plt.show()\n"
      ],
      "execution_count": null,
      "outputs": [
        {
          "output_type": "display_data",
          "data": {
            "image/png": "[encoded data removed]",
            "text/plain": [
              "<Figure size 432x288 with 1 Axes>"
            ]
          },
          "metadata": {
            "tags": [],
            "needs_background": "light"
          }
        }
      ]
    },
    {
      "cell_type": "code",
      "metadata": {
        "colab": {
          "base_uri": "https://localhost:8080/",
          "height": 295
        },
        "id": "MAkCxRPC3d0S",
        "outputId": "9e696092-7bd2-4f53-b322-c2ed259e175a"
      },
      "source": [
        "import matplotlib.pyplot as plt\n",
        "#等差数列。\n",
        "x = [0,2,4,6,8,10]\n",
        "yw1 = [Semantic for Semantic in k1]\n",
        "yw2 = [Syntactic for Syntactic in k2]\n",
        "yw3 = [Total for Total in k3]\n",
        "plt.plot(x,yw1,'rs-',markersize =5,label = 'Semantic_ftsg')\n",
        "plt.plot(x,yw2,'m-',markersize =5,label = 'Syntactic_ftsg')\n",
        "plt.plot(x,yw3,'k-',markersize =5,label = 'Total_ftsg')\n",
        "\n",
        "\n",
        "plt.xlabel('Window Size')\n",
        "plt.ylabel('Accuracy[%]')\n",
        "plt.title('The relationship between window size and semantics')\n",
        "plt.legend()\n",
        "plt.show()\n"
      ],
      "execution_count": null,
      "outputs": [
        {
          "output_type": "display_data",
          "data": {
            "image/png": "[encoded data removed]",
            "text/plain": [
              "<Figure size 432x288 with 1 Axes>"
            ]
          },
          "metadata": {
            "tags": [],
            "needs_background": "light"
          }
        }
      ]
    },
    {
      "cell_type": "code",
      "metadata": {
        "colab": {
          "base_uri": "https://localhost:8080/",
          "height": 295
        },
        "id": "46umBZPe3fHg",
        "outputId": "cce541d0-66e9-48f1-bebb-e8493e9bb0fa"
      },
      "source": [
        "import matplotlib.pyplot as plt\n",
        "#等差数列。\n",
        "x = [0,2,4,6,8,10]\n",
        "\n",
        "yw4 = [Semantic for Semantic in k4]\n",
        "yw5 = [Syntactic for Syntactic in k5]\n",
        "yw6 = [Total for Total in k6]\n",
        "plt.plot(x,yw4,'g-',markersize =5,label = 'Semantic_wvsg')\n",
        "plt.plot(x,yw5,'p-',markersize =5,label = 'Syntactic_wvsg')\n",
        "plt.plot(x,yw6,'y-',markersize =5,label = 'Total_wvsg')\n",
        "\n",
        "plt.xlabel('Window Size')\n",
        "plt.ylabel('Accuracy[%]')\n",
        "plt.title('The relationship between window size and semantics')\n",
        "plt.legend()\n",
        "plt.show()\n"
      ],
      "execution_count": null,
      "outputs": [
        {
          "output_type": "display_data",
          "data": {
            "image/png": "[encoded data removed]",
            "text/plain": [
              "<Figure size 432x288 with 1 Axes>"
            ]
          },
          "metadata": {
            "tags": [],
            "needs_background": "light"
          }
        }
      ]
    },
    {
      "cell_type": "code",
      "metadata": {
        "colab": {
          "base_uri": "https://localhost:8080/",
          "height": 295
        },
        "id": "Fcdbpy353fjA",
        "outputId": "724050fd-ebe6-4628-fe3e-c00f70c387bd"
      },
      "source": [
        "import matplotlib.pyplot as plt\n",
        "#等差数列。\n",
        "x = [0,2,4,6,8,10]\n",
        "\n",
        "yw7= [Semantic for Semantic in k7]\n",
        "yw8 = [Syntactic for Syntactic in k8]\n",
        "yw9 = [Total for Total in k9]\n",
        "plt.plot(x,yw7,'o-',markersize =5,label = 'Semantic_ftcb')\n",
        "plt.plot(x,yw8,'b-',markersize =5,label = 'Syntactic_ftcb')\n",
        "plt.plot(x,yw9,'#FFB6C1',markersize =5,label = 'Total_ftcb')\n",
        "\n",
        "plt.xlabel('Window Size')\n",
        "plt.ylabel('Accuracy[%]')\n",
        "plt.title('The relationship between window size and semantics')\n",
        "plt.legend()\n",
        "plt.show()\n"
      ],
      "execution_count": null,
      "outputs": [
        {
          "output_type": "display_data",
          "data": {
            "image/png": "[encoded data removed]",
            "text/plain": [
              "<Figure size 432x288 with 1 Axes>"
            ]
          },
          "metadata": {
            "tags": [],
            "needs_background": "light"
          }
        }
      ]
    },
    {
      "cell_type": "code",
      "metadata": {
        "colab": {
          "base_uri": "https://localhost:8080/",
          "height": 295
        },
        "id": "p9e8cEJf3f2w",
        "outputId": "81f23425-546f-4c69-e372-4f95df770717"
      },
      "source": [
        "import matplotlib.pyplot as plt\n",
        "#等差数列。\n",
        "x = [0,2,4,6,8,10]\n",
        "\n",
        "yw10 = [Semantic for Semantic in k10]\n",
        "yw11 = [Syntactic for Syntactic in k11]\n",
        "yw12 = [Total for Total in k12]\n",
        "plt.plot(x,yw10,'#B22222',markersize =5,label = 'Semantic_wvcb')\n",
        "plt.plot(x,yw11,'#00FF00',markersize =5,label = 'Syntactic_wvcb')\n",
        "plt.plot(x,yw12,'#0000CD',markersize =5,label = 'Total_wvcb')\n",
        "\n",
        "plt.xlabel('Window Size')\n",
        "plt.ylabel('Accuracy[%]')\n",
        "plt.title('The relationship between window size and semantics')\n",
        "plt.legend()\n",
        "plt.show()\n"
      ],
      "execution_count": null,
      "outputs": [
        {
          "output_type": "display_data",
          "data": {
            "image/png": "[encoded data removed]",
            "text/plain": [
              "<Figure size 432x288 with 1 Axes>"
            ]
          },
          "metadata": {
            "tags": [],
            "needs_background": "light"
          }
        }
      ]
    },
    {
      "cell_type": "code",
      "metadata": {
        "id": "FjY4jpeZ1TcW"
      },
      "source": [
        "Sem_win_wvsg, Syn_win_wvsg, Tot_win_wvsy = win_change(FastText,1)\n",
        "Sem_win_ftcb, Syn_win_ftcb, Tot_win_ftcb = win_change(FastText,0)\n",
        "Sem_win_wvcb, Syn_win_wvcb, Tot_win_wvcb = win_change(FastText,0)\n",
        "Sem_win_ftsg, Syn_win_ftsg, Tot_win_ftsy = win_change(FastText,1)"
      ],
      "execution_count": null,
      "outputs": []
    },
    {
      "cell_type": "code",
      "metadata": {
        "colab": {
          "base_uri": "https://localhost:8080/",
          "height": 295
        },
        "id": "Lv4p2Scw1Ij-",
        "outputId": "093347c5-ecae-4d68-d5b4-501d1fbaa32d"
      },
      "source": [
        "k4, k5, k6 = appd(Sem_win_wvsg,Syn_win_wvsg,Tot_win_wvsy)\n",
        "import matplotlib.pyplot as plt\n",
        "#等差数列。\n",
        "x = [0,2,4,6,8,10]\n",
        "yw4 = [Semantic for Semantic in k4]\n",
        "yw5 = [Syntactic for Syntactic in k5]\n",
        "yw6 = [Total for Total in k6]\n",
        "plt.plot(x,yw4,'g-',markersize =5,label = 'Semantic')\n",
        "plt.plot(x,yw5,'p-',markersize =5,label = 'Syntactic')\n",
        "plt.plot(x,yw6,'y-',markersize =5,label = 'Total')\n",
        "plt.xlabel('Window Size')\n",
        "plt.ylabel('Accuracy[%]')\n",
        "plt.title('The relationship between window size and semantics')\n",
        "plt.legend()\n",
        "plt.show()\n"
      ],
      "execution_count": null,
      "outputs": [
        {
          "output_type": "display_data",
          "data": {
            "image/png": "[encoded data removed]",
            "text/plain": [
              "<Figure size 432x288 with 1 Axes>"
            ]
          },
          "metadata": {
            "tags": [],
            "needs_background": "light"
          }
        }
      ]
    },
    {
      "cell_type": "code",
      "metadata": {
        "id": "1fopqfRK1Jfm"
      },
      "source": [
        "import matplotlib.pyplot as plt\n",
        "#等差数列。\n",
        "x = [0,2,4,6,8,10]\n",
        "yw1 = [Semantic for Semantic in k1]\n",
        "yw2 = [Syntactic for Syntactic in k2]\n",
        "yw3 = [Total for Total in k3]\n",
        "plt.plot(x,yw1,'rs-',markersize =5,label = 'Semantic')\n",
        "plt.plot(x,yw2,'m-',markersize =5,label = 'Syntactic')\n",
        "plt.plot(x,yw3,'k-',markersize =5,label = 'Total')\n",
        "plt.xlabel('Window Size')\n",
        "plt.ylabel('Accuracy[%]')\n",
        "plt.title('The relationship between window size and semantics')\n",
        "plt.legend()\n",
        "plt.show()\n"
      ],
      "execution_count": null,
      "outputs": []
    },
    {
      "cell_type": "code",
      "metadata": {
        "id": "e66FtwYf1JyZ"
      },
      "source": [
        "import matplotlib.pyplot as plt\n",
        "#等差数列。\n",
        "x = [0,2,4,6,8,10]\n",
        "yw1 = [Semantic for Semantic in k1]\n",
        "yw2 = [Syntactic for Syntactic in k2]\n",
        "yw3 = [Total for Total in k3]\n",
        "plt.plot(x,yw1,'rs-',markersize =5,label = 'Semantic')\n",
        "plt.plot(x,yw2,'m-',markersize =5,label = 'Syntactic')\n",
        "plt.plot(x,yw3,'k-',markersize =5,label = 'Total')\n",
        "plt.xlabel('Window Size')\n",
        "plt.ylabel('Accuracy[%]')\n",
        "plt.title('The relationship between window size and semantics')\n",
        "plt.legend()\n",
        "plt.show()\n"
      ],
      "execution_count": null,
      "outputs": []
    },
    {
      "cell_type": "code",
      "metadata": {
        "id": "nOssctvLfhJo"
      },
      "source": [
        ""
      ],
      "execution_count": null,
      "outputs": []
    },
    {
      "cell_type": "markdown",
      "metadata": {
        "id": "GhWDNW6W2RUr"
      },
      "source": [
        ""
      ]
    },
    {
      "cell_type": "code",
      "metadata": {
        "id": "V0POp5HgrIAu"
      },
      "source": [
        "W1,vocab1,W1_norm = open_files(vectors_wv_cbow) #vectors_wv_sg  #vectors_ft_sg #vectors_ft_cbow\n",
        "W2,vocab2,W2_norm = open_files(vectors_wv_sg) #vectors_wv_sg  #vectors_ft_sg #vectors_ft_cbow\n",
        "W3,vocab3,#  x是epoch y是f1 测试集  command+/\n",
        "import matplotlib.pyplot as plt\n",
        "x = [epoch for epoch in range(total_epoch)]\n",
        "y7 = [f1 for f1 in line_lr[6]]\n",
        "\n",
        "plt.plot(x,y1,'rs-',markersize =3,label = 'lr=1') # 那个点  红色尺寸点\n",
        "\n",
        "plt.xlabel('epoch')\n",
        "plt.ylabel('f1')\n",
        "plt.title('F1 cases at different learning rates.')\n",
        "plt.legend() #让标签显示出来\n",
        "plt.show()\n",
        "# precision: TP/(TP+FP)\n",
        "#recallW3_norm = open_files(vectors_ft_sg) #vectors_wv_sg  #vectors_ft_sg #vectors_ft_cbow\n",
        "W4,vocab4,W4_norm = open_files(vectors_ft_cbow) #vectors_wv_sg  #vectors_ft_sg #vectors_ft_cbow"
      ],
      "execution_count": null,
      "outputs": []
    },
    {
      "cell_type": "code",
      "metadata": {
        "id": "J06JRYxmghJt"
      },
      "source": [
        "import torch\n",
        "torch.save({\n",
        "    'correct_sem': correct_sem, \n",
        "    'correct_syn': correct_syn,\n",
        "    'correct_tot': correct_tot,\n",
        "    'count_sem': count_sem,\n",
        "    'count_syn': count_syn,\n",
        "    'count_tot': count_tot,\n",
        "    'full_count': full_count   \n",
        "    }, 'w2v_sg.PATH')   #'w2v_cbow.PATH' ; 'w2v_sg.PATH' ;'ft_sg.PATH' ; 'ft_cbow.PATH'"
      ],
      "execution_count": null,
      "outputs": []
    },
    {
      "cell_type": "code",
      "metadata": {
        "id": "HV3NL8bBl3Qn"
      },
      "source": [
        "import torch\n",
        "data_w2v_cbow = torch.load('w2v_cbow.PATH')\n",
        "PP = data_w2v_cbow['correct_sem'] #19\n",
        "LL = data_w2v_cbow['correct_syn'] #0.6927\n",
        "P2 = data_w2v_cbow['count_sem']   #tensor([0, 1, 0,  ..., 0, 1, 0])\n",
        "\n",
        "print(PP)\n",
        "print(LL)\n",
        "print(P2)\n",
        "\n"
      ],
      "execution_count": null,
      "outputs": []
    },
    {
      "cell_type": "code",
      "metadata": {
        "id": "_Mb7R1ZDl4Hm"
      },
      "source": [
        "import torch\n",
        "torch.save({\n",
        "    'correct_sem': correct_sem, \n",
        "    'correct_syn': correct_syn,\n",
        "    'correct_tot': correct_tot,\n",
        "    'count_sem': count_sem,\n",
        "    'count_syn': count_syn,\n",
        "    'count_tot': count_tot,\n",
        "    'full_count': full_count   \n",
        "    }, 'w2v_sg.PATH')   #'w2v_cbow.PATH' ; 'w2v_sg.PATH' ;'ft_sg.PATH' ; 'ft_cbow.PATH'"
      ],
      "execution_count": null,
      "outputs": []
    },
    {
      "cell_type": "code",
      "metadata": {
        "id": "A2rh3qd0l4Nr"
      },
      "source": [
        "import torch\n",
        "data_w2v_sg = torch.load('w2v_sg.PATH')\n",
        "PP = data_w2v_sg['correct_sem'] #19\n",
        "LL = data_w2v_sg['correct_syn'] #0.6927\n",
        "P2 = data_w2v_sg['count_sem']   #tensor([0, 1, 0,  ..., 0, 1, 0])\n",
        "\n",
        "print(PP)\n",
        "print(LL)\n",
        "print(P2)\n",
        "\n"
      ],
      "execution_count": null,
      "outputs": []
    },
    {
      "cell_type": "code",
      "metadata": {
        "id": "Qqg6i6LlrtpJ"
      },
      "source": [
        "import torch\n",
        "torch.save({\n",
        "    'correct_sem': correct_sem, \n",
        "    'correct_syn': correct_syn,\n",
        "    'correct_tot': correct_tot,\n",
        "    'count_sem': count_sem,\n",
        "    'count_syn': count_syn,\n",
        "    'count_tot': count_tot,\n",
        "    'full_count': full_count   \n",
        "    }, 'ft_sg.PATH')   #'w2v_cbow.PATH' ; 'w2v_sg.PATH' ;'ft_sg.PATH' ; 'ft_cbow.PATH'"
      ],
      "execution_count": null,
      "outputs": []
    },
    {
      "cell_type": "code",
      "metadata": {
        "id": "ReqYnXrKrw_E"
      },
      "source": [
        "import torch\n",
        "data_ft_sg = torch.load('ft_sg.PATH')\n",
        "PP = data_ft_sg['correct_sem'] #19\n",
        "LL = data_ft_sg['correct_syn'] #0.6927\n",
        "P2 = data_ft_sg['count_sem']   #tensor([0, 1, 0,  ..., 0, 1, 0])\n",
        "\n",
        "print(PP)\n",
        "print(LL)\n",
        "print(P2)\n",
        "\n"
      ],
      "execution_count": null,
      "outputs": []
    },
    {
      "cell_type": "code",
      "metadata": {
        "id": "-zPleDRdr3sx"
      },
      "source": [
        "import torch\n",
        "torch.save({\n",
        "    'correct_sem': correct_sem, \n",
        "    'correct_syn': correct_syn,\n",
        "    'correct_tot': correct_tot,\n",
        "    'count_sem': count_sem,\n",
        "    'count_syn': count_syn,\n",
        "    'count_tot': count_tot,\n",
        "    'full_count': full_count   \n",
        "    }, 'ft_cbow.PATH')   #'w2v_cbow.PATH' ; 'w2v_sg.PATH' ;'ft_sg.PATH' ; 'ft_cbow.PATH'"
      ],
      "execution_count": null,
      "outputs": []
    },
    {
      "cell_type": "code",
      "metadata": {
        "id": "YX2hYsEFr5iY"
      },
      "source": [
        "import torch\n",
        "data_ft_cbow = torch.load('ft_cbow.PATH')\n",
        "PP = data_ft_cbow['correct_sem'] #19\n",
        "LL = data_ft_cbow['correct_syn'] #0.6927\n",
        "P2 = data_ft_cbow['count_sem']   #tensor([0, 1, 0,  ..., 0, 1, 0])\n",
        "\n",
        "print(PP)\n",
        "print(LL)\n",
        "print(P2)\n",
        "\n"
      ],
      "execution_count": null,
      "outputs": []
    },
    {
      "cell_type": "markdown",
      "metadata": {
        "id": "Vf7qMXjre8B3"
      },
      "source": [
        ""
      ]
    }
  ]
}